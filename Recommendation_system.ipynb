{
 "cells": [
  {
   "cell_type": "markdown",
   "metadata": {
    "id": "SFwmdq535hyk"
   },
   "source": [
    "# Initiation aux système de recommandation\n",
    "\n",
    "à partir du tuto :\n",
    "\n",
    "https://www.datacamp.com/community/tutorials/recommender-systems-python\n",
    "\n",
    "## 1. Recommandation Simple\n",
    "\n",
    "Comme décrit dans la section précédente, les recommandation simples sont des systèmes de base qui recommandent les meilleurs éléments en fonction d'une certaine métrique ou d'un certain score. Dans cette section, vous allez créer un clone simplifié des 250 meilleurs films IMDB à l'aide de métadonnées collectées à partir d'IMDB. "
   ]
  },
  {
   "cell_type": "code",
   "execution_count": 52,
   "metadata": {
    "colab": {
     "base_uri": "https://localhost:8080/",
     "height": 323
    },
    "executionInfo": {
     "elapsed": 1850,
     "status": "ok",
     "timestamp": 1610549108338,
     "user": {
      "displayName": "Anthony BONFILS",
      "photoUrl": "",
      "userId": "14510571853712567813"
     },
     "user_tz": -60
    },
    "id": "cumB4OqO5hy0",
    "outputId": "f7d849f7-1504-4062-9b6f-73def4dcda2e"
   },
   "outputs": [
    {
     "data": {
      "text/html": [
       "<div>\n",
       "<style scoped>\n",
       "    .dataframe tbody tr th:only-of-type {\n",
       "        vertical-align: middle;\n",
       "    }\n",
       "\n",
       "    .dataframe tbody tr th {\n",
       "        vertical-align: top;\n",
       "    }\n",
       "\n",
       "    .dataframe thead th {\n",
       "        text-align: right;\n",
       "    }\n",
       "</style>\n",
       "<table border=\"1\" class=\"dataframe\">\n",
       "  <thead>\n",
       "    <tr style=\"text-align: right;\">\n",
       "      <th></th>\n",
       "      <th>adult</th>\n",
       "      <th>belongs_to_collection</th>\n",
       "      <th>budget</th>\n",
       "      <th>genres</th>\n",
       "      <th>homepage</th>\n",
       "      <th>id</th>\n",
       "      <th>imdb_id</th>\n",
       "      <th>original_language</th>\n",
       "      <th>original_title</th>\n",
       "      <th>overview</th>\n",
       "      <th>...</th>\n",
       "      <th>release_date</th>\n",
       "      <th>revenue</th>\n",
       "      <th>runtime</th>\n",
       "      <th>spoken_languages</th>\n",
       "      <th>status</th>\n",
       "      <th>tagline</th>\n",
       "      <th>title</th>\n",
       "      <th>video</th>\n",
       "      <th>vote_average</th>\n",
       "      <th>vote_count</th>\n",
       "    </tr>\n",
       "  </thead>\n",
       "  <tbody>\n",
       "    <tr>\n",
       "      <th>0</th>\n",
       "      <td>False</td>\n",
       "      <td>{'id': 10194, 'name': 'Toy Story Collection', ...</td>\n",
       "      <td>30000000</td>\n",
       "      <td>[{'id': 16, 'name': 'Animation'}, {'id': 35, '...</td>\n",
       "      <td>http://toystory.disney.com/toy-story</td>\n",
       "      <td>862</td>\n",
       "      <td>tt0114709</td>\n",
       "      <td>en</td>\n",
       "      <td>Toy Story</td>\n",
       "      <td>Led by Woody, Andy's toys live happily in his ...</td>\n",
       "      <td>...</td>\n",
       "      <td>1995-10-30</td>\n",
       "      <td>373554033.0</td>\n",
       "      <td>81.0</td>\n",
       "      <td>[{'iso_639_1': 'en', 'name': 'English'}]</td>\n",
       "      <td>Released</td>\n",
       "      <td>NaN</td>\n",
       "      <td>Toy Story</td>\n",
       "      <td>False</td>\n",
       "      <td>7.7</td>\n",
       "      <td>5415.0</td>\n",
       "    </tr>\n",
       "    <tr>\n",
       "      <th>1</th>\n",
       "      <td>False</td>\n",
       "      <td>NaN</td>\n",
       "      <td>65000000</td>\n",
       "      <td>[{'id': 12, 'name': 'Adventure'}, {'id': 14, '...</td>\n",
       "      <td>NaN</td>\n",
       "      <td>8844</td>\n",
       "      <td>tt0113497</td>\n",
       "      <td>en</td>\n",
       "      <td>Jumanji</td>\n",
       "      <td>When siblings Judy and Peter discover an encha...</td>\n",
       "      <td>...</td>\n",
       "      <td>1995-12-15</td>\n",
       "      <td>262797249.0</td>\n",
       "      <td>104.0</td>\n",
       "      <td>[{'iso_639_1': 'en', 'name': 'English'}, {'iso...</td>\n",
       "      <td>Released</td>\n",
       "      <td>Roll the dice and unleash the excitement!</td>\n",
       "      <td>Jumanji</td>\n",
       "      <td>False</td>\n",
       "      <td>6.9</td>\n",
       "      <td>2413.0</td>\n",
       "    </tr>\n",
       "  </tbody>\n",
       "</table>\n",
       "<p>2 rows × 24 columns</p>\n",
       "</div>"
      ],
      "text/plain": [
       "   adult                              belongs_to_collection    budget  \\\n",
       "0  False  {'id': 10194, 'name': 'Toy Story Collection', ...  30000000   \n",
       "1  False                                                NaN  65000000   \n",
       "\n",
       "                                              genres  \\\n",
       "0  [{'id': 16, 'name': 'Animation'}, {'id': 35, '...   \n",
       "1  [{'id': 12, 'name': 'Adventure'}, {'id': 14, '...   \n",
       "\n",
       "                               homepage    id    imdb_id original_language  \\\n",
       "0  http://toystory.disney.com/toy-story   862  tt0114709                en   \n",
       "1                                   NaN  8844  tt0113497                en   \n",
       "\n",
       "  original_title                                           overview  ...  \\\n",
       "0      Toy Story  Led by Woody, Andy's toys live happily in his ...  ...   \n",
       "1        Jumanji  When siblings Judy and Peter discover an encha...  ...   \n",
       "\n",
       "  release_date      revenue runtime  \\\n",
       "0   1995-10-30  373554033.0    81.0   \n",
       "1   1995-12-15  262797249.0   104.0   \n",
       "\n",
       "                                    spoken_languages    status  \\\n",
       "0           [{'iso_639_1': 'en', 'name': 'English'}]  Released   \n",
       "1  [{'iso_639_1': 'en', 'name': 'English'}, {'iso...  Released   \n",
       "\n",
       "                                     tagline      title  video vote_average  \\\n",
       "0                                        NaN  Toy Story  False          7.7   \n",
       "1  Roll the dice and unleash the excitement!    Jumanji  False          6.9   \n",
       "\n",
       "  vote_count  \n",
       "0     5415.0  \n",
       "1     2413.0  \n",
       "\n",
       "[2 rows x 24 columns]"
      ]
     },
     "execution_count": 52,
     "metadata": {},
     "output_type": "execute_result"
    }
   ],
   "source": [
    "# Import Pandas\n",
    "import pandas as pd\n",
    "#Import TfIdfVectorizer from scikit-learn\n",
    "from sklearn.feature_extraction.text import TfidfVectorizer\n",
    "from sklearn.metrics.pairwise import cosine_similarity\n",
    "from sklearn.decomposition import PCA\n",
    "from scipy import sparse\n",
    "import time\n",
    "import warnings\n",
    "warnings.filterwarnings('ignore')\n",
    "\n",
    "\n",
    "# Load Movies Metadata\n",
    "metadata = pd.read_csv('./Datas/movies_metadata.csv', low_memory=False)\n",
    "\n",
    "# Print the first three rows\n",
    "metadata.head(2)\n"
   ]
  },
  {
   "cell_type": "markdown",
   "metadata": {
    "id": "7xRKJ-Dq5hy5"
   },
   "source": [
    "#### Metric for film evaluation\n",
    "\n",
    "WeightedRating (WR) :\n",
    "\\begin{equation}\n",
    "    \\displaystyle WR = \\Big( \\frac{v}{v+m}.R \\Big) + \\Big( \\frac{v}{v+m}.C \\Big) \n",
    "\\end{equation}\n",
    "\n",
    "where :\n",
    "* $v$ is the number of votes for the movie;\n",
    "* $m$ is the minimum votes required to be listed in the chart;\n",
    "* $R$ is the average rating of the movie;\n",
    "* $C$ is the mean vote across the whole report.\n"
   ]
  },
  {
   "cell_type": "code",
   "execution_count": 2,
   "metadata": {
    "colab": {
     "base_uri": "https://localhost:8080/"
    },
    "executionInfo": {
     "elapsed": 1841,
     "status": "ok",
     "timestamp": 1610549108340,
     "user": {
      "displayName": "Anthony BONFILS",
      "photoUrl": "",
      "userId": "14510571853712567813"
     },
     "user_tz": -60
    },
    "id": "HVStxGld5hy7",
    "outputId": "77615155-2c7c-4a7a-cfa3-b3836393fb34"
   },
   "outputs": [
    {
     "name": "stdout",
     "output_type": "stream",
     "text": [
      "5.618207215134185\n"
     ]
    }
   ],
   "source": [
    "# Calculate mean of vote average column\n",
    "C = metadata['vote_average'].mean()\n",
    "print(C)"
   ]
  },
  {
   "cell_type": "markdown",
   "metadata": {
    "id": "f9j9iFhS5hy9"
   },
   "source": [
    "La note moyenne d'un film sur IMDB est d'environ 5,6 sur une échelle de 10. "
   ]
  },
  {
   "cell_type": "code",
   "execution_count": 3,
   "metadata": {
    "colab": {
     "base_uri": "https://localhost:8080/"
    },
    "executionInfo": {
     "elapsed": 1834,
     "status": "ok",
     "timestamp": 1610549108342,
     "user": {
      "displayName": "Anthony BONFILS",
      "photoUrl": "",
      "userId": "14510571853712567813"
     },
     "user_tz": -60
    },
    "id": "Ep1XOn_O5hy_",
    "outputId": "4e1bdb5a-36ee-4180-ba2d-5d3c5590ce7b"
   },
   "outputs": [
    {
     "name": "stdout",
     "output_type": "stream",
     "text": [
      "160.0\n"
     ]
    }
   ],
   "source": [
    "# Calculate the minimum number of votes required to be in the chart, m\n",
    "m = metadata['vote_count'].quantile(0.90)\n",
    "print(m)"
   ]
  },
  {
   "cell_type": "markdown",
   "metadata": {
    "id": "1VRJhYJk5hzB"
   },
   "source": [
    "Utiliser la méthode .copy() pour vous assurer que le nouveau DataFrame créé q_movies est indépendant des métadonnées du DataFrame d'origine."
   ]
  },
  {
   "cell_type": "code",
   "execution_count": 4,
   "metadata": {
    "colab": {
     "base_uri": "https://localhost:8080/"
    },
    "executionInfo": {
     "elapsed": 1827,
     "status": "ok",
     "timestamp": 1610549108343,
     "user": {
      "displayName": "Anthony BONFILS",
      "photoUrl": "",
      "userId": "14510571853712567813"
     },
     "user_tz": -60
    },
    "id": "GweHq4DE5hzB",
    "outputId": "db640ce9-43b3-420a-ce89-a473444b8a22"
   },
   "outputs": [
    {
     "name": "stdout",
     "output_type": "stream",
     "text": [
      "Pour les film séléctionnés, (4555, 24) est la dimension du nouveau DataFrame\n",
      "Alors que la dimentsion du DataFrame complet est :  (45466, 24)\n"
     ]
    }
   ],
   "source": [
    "# Filter out all qualified movies into a new DataFrame\n",
    "q_movies = metadata.copy().loc[metadata['vote_count'] >= m]\n",
    "print('Pour les film séléctionnés, {} est la dimension du nouveau DataFrame'.format(q_movies.shape))\n",
    "print('Alors que la dimentsion du DataFrame complet est : ', metadata.shape)"
   ]
  },
  {
   "cell_type": "markdown",
   "metadata": {
    "id": "Qo85PucV5hzD"
   },
   "source": [
    "Maintenant définisons la fonctionnalité weighted rating :"
   ]
  },
  {
   "cell_type": "code",
   "execution_count": 5,
   "metadata": {
    "id": "fH-d8PSq5hzG"
   },
   "outputs": [],
   "source": [
    "# Function that computes the weighted rating of each movie\n",
    "def weighted_rating(x, m=m, C=C):\n",
    "    v = x['vote_count']\n",
    "    R = x['vote_average']\n",
    "    # Calculation based on the IMDB formula\n",
    "    return (v / (v + m) * R) + (m / (m + v) * C)"
   ]
  },
  {
   "cell_type": "markdown",
   "metadata": {
    "id": "R77bSN1s5hzG"
   },
   "source": [
    "Ajouter une nouvelle colone :"
   ]
  },
  {
   "cell_type": "code",
   "execution_count": 6,
   "metadata": {
    "id": "Y85xJ6wY5hzI"
   },
   "outputs": [],
   "source": [
    "# Define a new feature 'score' and calculate its value with `weighted_rating()`\n",
    "q_movies['score'] = q_movies.apply(weighted_rating, axis=1)"
   ]
  },
  {
   "cell_type": "markdown",
   "metadata": {
    "id": "jwsPlzHl5hzK"
   },
   "source": [
    "Et enfin, il faut trier le DataFrame par ordre décroissant en fonction du score et afficher le titre, le nombre de votes, la moyenne des votes et la note pondérée (score) des 20 meilleurs films. "
   ]
  },
  {
   "cell_type": "code",
   "execution_count": 7,
   "metadata": {
    "colab": {
     "base_uri": "https://localhost:8080/",
     "height": 677
    },
    "executionInfo": {
     "elapsed": 2038,
     "status": "ok",
     "timestamp": 1610549108577,
     "user": {
      "displayName": "Anthony BONFILS",
      "photoUrl": "",
      "userId": "14510571853712567813"
     },
     "user_tz": -60
    },
    "id": "nnBkpQHo5hzK",
    "outputId": "c7897819-2ae4-4fd8-ed2b-322fca0d15d6"
   },
   "outputs": [
    {
     "data": {
      "text/html": [
       "<div>\n",
       "<style scoped>\n",
       "    .dataframe tbody tr th:only-of-type {\n",
       "        vertical-align: middle;\n",
       "    }\n",
       "\n",
       "    .dataframe tbody tr th {\n",
       "        vertical-align: top;\n",
       "    }\n",
       "\n",
       "    .dataframe thead th {\n",
       "        text-align: right;\n",
       "    }\n",
       "</style>\n",
       "<table border=\"1\" class=\"dataframe\">\n",
       "  <thead>\n",
       "    <tr style=\"text-align: right;\">\n",
       "      <th></th>\n",
       "      <th>title</th>\n",
       "      <th>vote_count</th>\n",
       "      <th>vote_average</th>\n",
       "      <th>score</th>\n",
       "    </tr>\n",
       "  </thead>\n",
       "  <tbody>\n",
       "    <tr>\n",
       "      <th>314</th>\n",
       "      <td>The Shawshank Redemption</td>\n",
       "      <td>8358.0</td>\n",
       "      <td>8.5</td>\n",
       "      <td>8.445869</td>\n",
       "    </tr>\n",
       "    <tr>\n",
       "      <th>834</th>\n",
       "      <td>The Godfather</td>\n",
       "      <td>6024.0</td>\n",
       "      <td>8.5</td>\n",
       "      <td>8.425439</td>\n",
       "    </tr>\n",
       "    <tr>\n",
       "      <th>10309</th>\n",
       "      <td>Dilwale Dulhania Le Jayenge</td>\n",
       "      <td>661.0</td>\n",
       "      <td>9.1</td>\n",
       "      <td>8.421453</td>\n",
       "    </tr>\n",
       "    <tr>\n",
       "      <th>12481</th>\n",
       "      <td>The Dark Knight</td>\n",
       "      <td>12269.0</td>\n",
       "      <td>8.3</td>\n",
       "      <td>8.265477</td>\n",
       "    </tr>\n",
       "    <tr>\n",
       "      <th>2843</th>\n",
       "      <td>Fight Club</td>\n",
       "      <td>9678.0</td>\n",
       "      <td>8.3</td>\n",
       "      <td>8.256385</td>\n",
       "    </tr>\n",
       "    <tr>\n",
       "      <th>292</th>\n",
       "      <td>Pulp Fiction</td>\n",
       "      <td>8670.0</td>\n",
       "      <td>8.3</td>\n",
       "      <td>8.251406</td>\n",
       "    </tr>\n",
       "    <tr>\n",
       "      <th>522</th>\n",
       "      <td>Schindler's List</td>\n",
       "      <td>4436.0</td>\n",
       "      <td>8.3</td>\n",
       "      <td>8.206639</td>\n",
       "    </tr>\n",
       "    <tr>\n",
       "      <th>23673</th>\n",
       "      <td>Whiplash</td>\n",
       "      <td>4376.0</td>\n",
       "      <td>8.3</td>\n",
       "      <td>8.205404</td>\n",
       "    </tr>\n",
       "    <tr>\n",
       "      <th>5481</th>\n",
       "      <td>Spirited Away</td>\n",
       "      <td>3968.0</td>\n",
       "      <td>8.3</td>\n",
       "      <td>8.196055</td>\n",
       "    </tr>\n",
       "    <tr>\n",
       "      <th>2211</th>\n",
       "      <td>Life Is Beautiful</td>\n",
       "      <td>3643.0</td>\n",
       "      <td>8.3</td>\n",
       "      <td>8.187171</td>\n",
       "    </tr>\n",
       "    <tr>\n",
       "      <th>1178</th>\n",
       "      <td>The Godfather: Part II</td>\n",
       "      <td>3418.0</td>\n",
       "      <td>8.3</td>\n",
       "      <td>8.180076</td>\n",
       "    </tr>\n",
       "    <tr>\n",
       "      <th>1152</th>\n",
       "      <td>One Flew Over the Cuckoo's Nest</td>\n",
       "      <td>3001.0</td>\n",
       "      <td>8.3</td>\n",
       "      <td>8.164256</td>\n",
       "    </tr>\n",
       "    <tr>\n",
       "      <th>351</th>\n",
       "      <td>Forrest Gump</td>\n",
       "      <td>8147.0</td>\n",
       "      <td>8.2</td>\n",
       "      <td>8.150272</td>\n",
       "    </tr>\n",
       "    <tr>\n",
       "      <th>1154</th>\n",
       "      <td>The Empire Strikes Back</td>\n",
       "      <td>5998.0</td>\n",
       "      <td>8.2</td>\n",
       "      <td>8.132919</td>\n",
       "    </tr>\n",
       "    <tr>\n",
       "      <th>1176</th>\n",
       "      <td>Psycho</td>\n",
       "      <td>2405.0</td>\n",
       "      <td>8.3</td>\n",
       "      <td>8.132715</td>\n",
       "    </tr>\n",
       "    <tr>\n",
       "      <th>18465</th>\n",
       "      <td>The Intouchables</td>\n",
       "      <td>5410.0</td>\n",
       "      <td>8.2</td>\n",
       "      <td>8.125837</td>\n",
       "    </tr>\n",
       "    <tr>\n",
       "      <th>40251</th>\n",
       "      <td>Your Name.</td>\n",
       "      <td>1030.0</td>\n",
       "      <td>8.5</td>\n",
       "      <td>8.112532</td>\n",
       "    </tr>\n",
       "    <tr>\n",
       "      <th>289</th>\n",
       "      <td>Leon: The Professional</td>\n",
       "      <td>4293.0</td>\n",
       "      <td>8.2</td>\n",
       "      <td>8.107234</td>\n",
       "    </tr>\n",
       "    <tr>\n",
       "      <th>3030</th>\n",
       "      <td>The Green Mile</td>\n",
       "      <td>4166.0</td>\n",
       "      <td>8.2</td>\n",
       "      <td>8.104511</td>\n",
       "    </tr>\n",
       "    <tr>\n",
       "      <th>1170</th>\n",
       "      <td>GoodFellas</td>\n",
       "      <td>3211.0</td>\n",
       "      <td>8.2</td>\n",
       "      <td>8.077459</td>\n",
       "    </tr>\n",
       "  </tbody>\n",
       "</table>\n",
       "</div>"
      ],
      "text/plain": [
       "                                 title  vote_count  vote_average     score\n",
       "314           The Shawshank Redemption      8358.0           8.5  8.445869\n",
       "834                      The Godfather      6024.0           8.5  8.425439\n",
       "10309      Dilwale Dulhania Le Jayenge       661.0           9.1  8.421453\n",
       "12481                  The Dark Knight     12269.0           8.3  8.265477\n",
       "2843                        Fight Club      9678.0           8.3  8.256385\n",
       "292                       Pulp Fiction      8670.0           8.3  8.251406\n",
       "522                   Schindler's List      4436.0           8.3  8.206639\n",
       "23673                         Whiplash      4376.0           8.3  8.205404\n",
       "5481                     Spirited Away      3968.0           8.3  8.196055\n",
       "2211                 Life Is Beautiful      3643.0           8.3  8.187171\n",
       "1178            The Godfather: Part II      3418.0           8.3  8.180076\n",
       "1152   One Flew Over the Cuckoo's Nest      3001.0           8.3  8.164256\n",
       "351                       Forrest Gump      8147.0           8.2  8.150272\n",
       "1154           The Empire Strikes Back      5998.0           8.2  8.132919\n",
       "1176                            Psycho      2405.0           8.3  8.132715\n",
       "18465                 The Intouchables      5410.0           8.2  8.125837\n",
       "40251                       Your Name.      1030.0           8.5  8.112532\n",
       "289             Leon: The Professional      4293.0           8.2  8.107234\n",
       "3030                    The Green Mile      4166.0           8.2  8.104511\n",
       "1170                        GoodFellas      3211.0           8.2  8.077459"
      ]
     },
     "execution_count": 7,
     "metadata": {},
     "output_type": "execute_result"
    }
   ],
   "source": [
    "#Sort movies based on score calculated above\n",
    "q_movies = q_movies.sort_values('score', ascending=False)\n",
    "\n",
    "#Print the top 15 movies\n",
    "q_movies[['title', 'vote_count', 'vote_average', 'score']].head(20)"
   ]
  },
  {
   "cell_type": "markdown",
   "metadata": {
    "id": "3-8hgQw35hzK"
   },
   "source": [
    "## 2. Recommandations basées sur le contenu\n",
    "\n",
    "### Recommendations basé sur la description de parcelle \n",
    "\n",
    "Dans cette section, nous allons créer un système qui recommande des films similaires à un film particulier. Pour ce faire, nous calculerons des paire de similitude par cosinus_cores pour tous les films en fonction de leurs descriptions d'intrigue et recommanderons des films en fonction de ce seuil de score de similitude. "
   ]
  },
  {
   "cell_type": "code",
   "execution_count": 8,
   "metadata": {
    "colab": {
     "base_uri": "https://localhost:8080/"
    },
    "executionInfo": {
     "elapsed": 2030,
     "status": "ok",
     "timestamp": 1610549108579,
     "user": {
      "displayName": "Anthony BONFILS",
      "photoUrl": "",
      "userId": "14510571853712567813"
     },
     "user_tz": -60
    },
    "id": "d-OWqJhu5hzL",
    "outputId": "318a3db1-2f0a-4648-85c7-4a0a9b0d62bd"
   },
   "outputs": [
    {
     "data": {
      "text/plain": [
       "0    Led by Woody, Andy's toys live happily in his ...\n",
       "1    When siblings Judy and Peter discover an encha...\n",
       "2    A family wedding reignites the ancient feud be...\n",
       "3    Cheated on, mistreated and stepped on, the wom...\n",
       "4    Just when George Banks has recovered from his ...\n",
       "Name: overview, dtype: object"
      ]
     },
     "execution_count": 8,
     "metadata": {},
     "output_type": "execute_result"
    }
   ],
   "source": [
    "#Print plot overviews of the first 5 movies.\n",
    "metadata['overview'].head()"
   ]
  },
  {
   "cell_type": "markdown",
   "metadata": {
    "id": "WfQq-dBW5hzM"
   },
   "source": [
    "Le problème à résoudre est un problème de traitement du langage naturel. Par conséquent, vous devez extraire une sorte de caractéristiques des données texte ci-dessus avant de pouvoir calculer la similitude et / ou la dissemblance entre elles. Pour faire simple, il n'est pas possible de calculer la similitude entre deux aperçus sous leur forme brute. Pour ce faire, vous devez calculer les vecteurs de mots de chaque vue d'ensemble ou document."
   ]
  },
  {
   "cell_type": "code",
   "execution_count": 9,
   "metadata": {
    "id": "84pA3dO85hzN"
   },
   "outputs": [],
   "source": [
    "#Define a TF-IDF Vectorizer Object. Remove all english stop words such as 'the', 'a'\n",
    "tfidf = TfidfVectorizer(stop_words='english')\n",
    "\n",
    "#Replace NaN with an empty string\n",
    "metadata['overview'] = metadata['overview'].fillna('')\n",
    "\n",
    "#Construct the required TF-IDF matrix by fitting and transforming the data\n",
    "tfidf_matrix = tfidf.fit_transform(metadata['overview'])"
   ]
  },
  {
   "cell_type": "code",
   "execution_count": 10,
   "metadata": {
    "colab": {
     "base_uri": "https://localhost:8080/"
    },
    "executionInfo": {
     "elapsed": 5093,
     "status": "ok",
     "timestamp": 1610549111657,
     "user": {
      "displayName": "Anthony BONFILS",
      "photoUrl": "",
      "userId": "14510571853712567813"
     },
     "user_tz": -60
    },
    "id": "-bxYv9Hr5hzP",
    "outputId": "91f9bb10-483f-498e-dd1a-6d4e87fac1b1"
   },
   "outputs": [
    {
     "name": "stdout",
     "output_type": "stream",
     "text": [
      "La dimension de la matrice correspondant à la section overview 'according to the corpus' est : (45466, 75827)\n"
     ]
    }
   ],
   "source": [
    "#Output the shape of tfidf_matrix\n",
    "print(\"La dimension de la matrice correspondant à la section overview 'according to the corpus' est :\", tfidf_matrix.shape)"
   ]
  },
  {
   "cell_type": "markdown",
   "metadata": {},
   "source": [
    "#### Taille en mémoire"
   ]
  },
  {
   "cell_type": "code",
   "execution_count": 11,
   "metadata": {},
   "outputs": [
    {
     "data": {
      "text/plain": [
       "dtype('float64')"
      ]
     },
     "execution_count": 11,
     "metadata": {},
     "output_type": "execute_result"
    }
   ],
   "source": [
    "tfidf_matrix.dtype"
   ]
  },
  {
   "cell_type": "markdown",
   "metadata": {},
   "source": [
    "Un float64 prend 8 octets en mémoire"
   ]
  },
  {
   "cell_type": "code",
   "execution_count": 13,
   "metadata": {},
   "outputs": [
    {
     "data": {
      "text/plain": [
       "27580403056"
      ]
     },
     "execution_count": 13,
     "metadata": {},
     "output_type": "execute_result"
    }
   ],
   "source": [
    "shape = tfidf_matrix.shape\n",
    "shape[0]*shape[1]*8"
   ]
  },
  {
   "cell_type": "markdown",
   "metadata": {},
   "source": [
    "Cette matrice devrait prendre 27 Go en mémoire"
   ]
  },
  {
   "cell_type": "code",
   "execution_count": 14,
   "metadata": {},
   "outputs": [
    {
     "data": {
      "text/plain": [
       "<45466x75827 sparse matrix of type '<class 'numpy.float64'>'\n",
       "\twith 1210882 stored elements in Compressed Sparse Row format>"
      ]
     },
     "execution_count": 14,
     "metadata": {},
     "output_type": "execute_result"
    }
   ],
   "source": [
    "tfidf_matrix"
   ]
  },
  {
   "cell_type": "markdown",
   "metadata": {},
   "source": [
    "Cette matrice étant une matrice sparce on ne stoque que 1210882 élément en mémoire "
   ]
  },
  {
   "cell_type": "markdown",
   "metadata": {},
   "source": [
    "Mais elle ne prend que (1210882*8) = 9687056 octets soit 9 Mo en étant stocquée comme une matrice sparse"
   ]
  },
  {
   "cell_type": "code",
   "execution_count": 16,
   "metadata": {
    "colab": {
     "base_uri": "https://localhost:8080/"
    },
    "executionInfo": {
     "elapsed": 5087,
     "status": "ok",
     "timestamp": 1610549111659,
     "user": {
      "displayName": "Anthony BONFILS",
      "photoUrl": "",
      "userId": "14510571853712567813"
     },
     "user_tz": -60
    },
    "id": "8ksmMtTZ5hzP",
    "outputId": "4ed91caf-6bae-47a7-c016-5dd80d0033d5"
   },
   "outputs": [
    {
     "name": "stdout",
     "output_type": "stream",
     "text": [
      "Exemple de mots du corpus : ['avails', 'avaks', 'avalanche', 'avalanches', 'avallone', 'avalon', 'avant', 'avanthika', 'avanti', 'avaracious']\n"
     ]
    }
   ],
   "source": [
    "#Array mapping from feature integer indices to feature name.\n",
    "print('Exemple de mots du corpus :', tfidf.get_feature_names()[5000:5010])"
   ]
  },
  {
   "cell_type": "markdown",
   "metadata": {
    "id": "KgFLScC05hzQ"
   },
   "source": [
    "À partir de la sortie ci-dessus, on observe 75 827 mots de vocabulaires différents dans votre ensemble de données de 45 000 films.\n",
    "\n",
    "On va maintenant calculer un score de similarité. Il existe plusieurs métriques de similitude que l'on peux utiliser pour cela, telles que les scores de similitude de Manhattan, euclidien, Pearson et cosinus. Encore une fois, il n'y a pas de bonne réponse pour savoir quel score est le meilleur. Différents scores fonctionnent bien dans différents scénarios, et c'est souvent une bonne idée d'expérimenter différentes mesures et d'observer les résultats. \n",
    "\n",
    "#### Exemple : Cosinus similarity\n",
    "\n",
    "\\begin{equation}\n",
    "    \\displaystyle \\cos(x, y) = \\frac{x.y^T}{||x||.||y||} = \\frac{\\sum_{i=1}^n x_i.y_i^{T}}{\\sqrt{\\sum_{i=1}^n (x_i)^2}\\sqrt{\\sum_{i=1}^n (y_i)^2}}\n",
    "\\end{equation}\n",
    "\n",
    "#### 2.1.1. Matrice de cosine similarity complete"
   ]
  },
  {
   "cell_type": "code",
   "execution_count": 17,
   "metadata": {
    "colab": {
     "base_uri": "https://localhost:8080/"
    },
    "executionInfo": {
     "elapsed": 5080,
     "status": "ok",
     "timestamp": 1610549111659,
     "user": {
      "displayName": "Anthony BONFILS",
      "photoUrl": "",
      "userId": "14510571853712567813"
     },
     "user_tz": -60
    },
    "id": "axXAiOeC5hzR",
    "outputId": "d4581655-0a4b-49c1-8b36-4fe8e7ac811b"
   },
   "outputs": [
    {
     "name": "stdout",
     "output_type": "stream",
     "text": [
      "IMPOSSIBLE de calculer la matrice de cosinus similarity de cette manière -> EXPLOSE EN MEMOIRE\n"
     ]
    }
   ],
   "source": [
    "## Import linear_kernel\n",
    "#from sklearn.metrics.pairwise import linear_kernel\n",
    "#\n",
    "## Compute the cosine similarity matrix\n",
    "#cosine_sim = linear_kernel(tfidf_matrix, tfidf_matrix, dense_output=False)\n",
    "#\n",
    "#print('Dimensions of cosin similarity matrix :', cosine_sim.shape)\n",
    "print(\"IMPOSSIBLE de calculer la matrice de cosinus similarity de cette manière -> EXPLOSE EN MEMOIRE\")"
   ]
  },
  {
   "cell_type": "code",
   "execution_count": 18,
   "metadata": {
    "id": "hwnEolQI5hzS"
   },
   "outputs": [],
   "source": [
    "en_ligne = False\n",
    "dense_output_choice = False# True or False\n",
    "'''\n",
    "Ne pas utiliser dense_output = True\n",
    " -> EXPLOSE EN MEMOIRE\n",
    "'''\n",
    "if en_ligne==True:\n",
    "    cosine_sim = cosine_similarity(tfidf_matrix, tfidf_matrix, dense_output=dense_output_choice)\n"
   ]
  },
  {
   "cell_type": "markdown",
   "metadata": {},
   "source": [
    "Complexité en mémoire O(n^2)\n",
    "\n",
    "En l'executant sur google collab je trouve que la matrice de 45466*45466 élément (soit 2067157156 éléments) devrait prendre en mémoire 16537257248 octets (16,5 Go)\n",
    "\n",
    "En étant stockée comme une matrice sparce seulement 546860044 éléments sont stocké, soit 546860044*8 = 4374880352 octets \n",
    "(4,4 Go) en plus de tout le reste...\n",
    "\n",
    "**-> Sur notre machine ça ne passe pas en mémoire**"
   ]
  },
  {
   "cell_type": "code",
   "execution_count": 19,
   "metadata": {
    "colab": {
     "base_uri": "https://localhost:8080/"
    },
    "executionInfo": {
     "elapsed": 607,
     "status": "ok",
     "timestamp": 1610549365514,
     "user": {
      "displayName": "Anthony BONFILS",
      "photoUrl": "",
      "userId": "14510571853712567813"
     },
     "user_tz": -60
    },
    "id": "nfWRlEPYOB_H",
    "outputId": "8a8ec042-2c10-4a76-db15-9b8abc563acf"
   },
   "outputs": [],
   "source": [
    "if en_ligne==True:\n",
    "    print(cosine_sim[1,:5])"
   ]
  },
  {
   "cell_type": "code",
   "execution_count": 20,
   "metadata": {
    "colab": {
     "base_uri": "https://localhost:8080/"
    },
    "executionInfo": {
     "elapsed": 708,
     "status": "ok",
     "timestamp": 1610549533127,
     "user": {
      "displayName": "Anthony BONFILS",
      "photoUrl": "",
      "userId": "14510571853712567813"
     },
     "user_tz": -60
    },
    "id": "gMhce9BdOgoj",
    "outputId": "a989d58c-4135-44a2-e02e-75125a742258"
   },
   "outputs": [],
   "source": [
    "if en_ligne==True:\n",
    "    cosine_sim[1,:].toarray()"
   ]
  },
  {
   "cell_type": "markdown",
   "metadata": {
    "id": "s74ts37NIj-s"
   },
   "source": [
    "Mécanisme pour identifier l'index d'un film dans votre metadataDataFrame, compte tenu de son titre. "
   ]
  },
  {
   "cell_type": "code",
   "execution_count": 21,
   "metadata": {
    "id": "ocXPnTphGVMM"
   },
   "outputs": [],
   "source": [
    "#Construct a reverse map of indices and movie titles\n",
    "indices = pd.Series(metadata.index, index=metadata['title']).drop_duplicates()\n"
   ]
  },
  {
   "cell_type": "code",
   "execution_count": 22,
   "metadata": {
    "colab": {
     "base_uri": "https://localhost:8080/"
    },
    "executionInfo": {
     "elapsed": 711,
     "status": "ok",
     "timestamp": 1610554621951,
     "user": {
      "displayName": "Anthony BONFILS",
      "photoUrl": "",
      "userId": "14510571853712567813"
     },
     "user_tz": -60
    },
    "id": "lZUSPWebiMrB",
    "outputId": "26ae9fb9-f0c6-4f2d-d49f-5729e1957a06"
   },
   "outputs": [
    {
     "data": {
      "text/plain": [
       "<1x75827 sparse matrix of type '<class 'numpy.float64'>'\n",
       "\twith 33 stored elements in Compressed Sparse Row format>"
      ]
     },
     "execution_count": 22,
     "metadata": {},
     "output_type": "execute_result"
    }
   ],
   "source": [
    "tfidf_matrix[1,:]"
   ]
  },
  {
   "cell_type": "code",
   "execution_count": 23,
   "metadata": {
    "colab": {
     "base_uri": "https://localhost:8080/"
    },
    "executionInfo": {
     "elapsed": 19593,
     "status": "ok",
     "timestamp": 1610549126197,
     "user": {
      "displayName": "Anthony BONFILS",
      "photoUrl": "",
      "userId": "14510571853712567813"
     },
     "user_tz": -60
    },
    "id": "v3lVLBtWIp8Q",
    "outputId": "610d31dd-b01a-43eb-f517-7ba7d06b2f0b"
   },
   "outputs": [
    {
     "data": {
      "text/plain": [
       "title\n",
       "Toy Story                      0\n",
       "Jumanji                        1\n",
       "Grumpier Old Men               2\n",
       "Waiting to Exhale              3\n",
       "Father of the Bride Part II    4\n",
       "Heat                           5\n",
       "Sabrina                        6\n",
       "Tom and Huck                   7\n",
       "Sudden Death                   8\n",
       "GoldenEye                      9\n",
       "dtype: int64"
      ]
     },
     "execution_count": 23,
     "metadata": {},
     "output_type": "execute_result"
    }
   ],
   "source": [
    "indices[:10]"
   ]
  },
  {
   "cell_type": "markdown",
   "metadata": {
    "id": "CyDtwKq9Piy4"
   },
   "source": [
    "#### FONCTION DE RECOMMANDATION\n",
    "\n",
    "Voici les étapes que vous suivrez:\n",
    "\n",
    "* Obtenir l'index du film en fonction de son titre.\n",
    "\n",
    "* Obtenir la liste des scores de similarité cosinus pour ce film particulier avec tous les films. Convertissez-le en une liste de tuples où le premier élément est sa position et le second est le score de similarité.\n",
    "\n",
    "* Trier la liste susmentionnée de tuples en fonction des scores de similitude; c'est-à-dire le deuxième élément.\n",
    "\n",
    "* Obtenir les 10 principaux éléments de cette liste. Ignorez le premier élément car il fait référence à soi (le film le plus similaire à un film particulier est le film lui-même).\n",
    "\n",
    "* Renvoyer les titres correspondant aux indices des éléments supérieurs.\n"
   ]
  },
  {
   "cell_type": "code",
   "execution_count": 24,
   "metadata": {
    "id": "s-TtNYZSIsTT"
   },
   "outputs": [],
   "source": [
    "if en_ligne==True:\n",
    "    # Function that takes in movie title as input and outputs most similar movies\n",
    "    def get_recommendations(title, cosine_sim=cosine_sim):\n",
    "        # Get the index of the movie that matches the title\n",
    "        idx = indices[title]\n",
    "\n",
    "        # Get the pairwsie similarity scores of all movies with that movie\n",
    "        sim_scores = list(enumerate(cosine_sim[:,idx].toarray()))\n",
    "\n",
    "        # Sort the movies based on the similarity scores\n",
    "        sim_scores = sorted(sim_scores, key=lambda x: x[1], reverse=True)\n",
    "\n",
    "        # Get the scores of the 10 most similar movies\n",
    "        sim_scores = sim_scores[1:11]\n",
    "\n",
    "        # Get the movie indices\n",
    "        movie_indices = [i[0] for i in sim_scores]\n",
    "\n",
    "        # Return the top 10 most similar movies\n",
    "        return metadata['title'].iloc[movie_indices]"
   ]
  },
  {
   "cell_type": "code",
   "execution_count": 25,
   "metadata": {
    "colab": {
     "base_uri": "https://localhost:8080/"
    },
    "executionInfo": {
     "elapsed": 3757,
     "status": "ok",
     "timestamp": 1610549563722,
     "user": {
      "displayName": "Anthony BONFILS",
      "photoUrl": "",
      "userId": "14510571853712567813"
     },
     "user_tz": -60
    },
    "id": "t35Gr3HtJX-y",
    "outputId": "6ff5b8b8-0aba-4ea8-9cca-cca300dc5c11"
   },
   "outputs": [],
   "source": [
    "if en_ligne==True:\n",
    "    get_recommendations('The Dark Knight Rises')"
   ]
  },
  {
   "cell_type": "code",
   "execution_count": 26,
   "metadata": {
    "colab": {
     "base_uri": "https://localhost:8080/"
    },
    "executionInfo": {
     "elapsed": 2721,
     "status": "ok",
     "timestamp": 1610549827432,
     "user": {
      "displayName": "Anthony BONFILS",
      "photoUrl": "",
      "userId": "14510571853712567813"
     },
     "user_tz": -60
    },
    "id": "KIcQh1fBOuRm",
    "outputId": "fe72a4e1-43c3-4a0b-d024-89878e212b50"
   },
   "outputs": [],
   "source": [
    "if en_ligne==True:\n",
    "    get_recommendations('The Godfather')"
   ]
  },
  {
   "cell_type": "markdown",
   "metadata": {},
   "source": [
    "#### 2.1.2. Calcul de cosine similarity pour un film donné (online)"
   ]
  },
  {
   "cell_type": "code",
   "execution_count": 27,
   "metadata": {
    "colab": {
     "base_uri": "https://localhost:8080/"
    },
    "executionInfo": {
     "elapsed": 1334,
     "status": "ok",
     "timestamp": 1610557426557,
     "user": {
      "displayName": "Anthony BONFILS",
      "photoUrl": "",
      "userId": "14510571853712567813"
     },
     "user_tz": -60
    },
    "id": "LpvWfqJ0s4Vd",
    "outputId": "416ca07e-99a6-4a9d-dab8-91bf1479f8d5"
   },
   "outputs": [
    {
     "name": "stdout",
     "output_type": "stream",
     "text": [
      "temps execution 0.0650491714477539 secondes\n"
     ]
    }
   ],
   "source": [
    "# test cosin_sim sur 1 film\n",
    "title = 'The Dark Knight Rises'\n",
    "import time\n",
    "t0 = time.time()\n",
    "cosine_sim_1titre = cosine_similarity(tfidf_matrix[indices[title],:], tfidf_matrix, dense_output=dense_output_choice)\n",
    "tps = time.time() - t0\n",
    "print('temps execution', tps, 'secondes')"
   ]
  },
  {
   "cell_type": "code",
   "execution_count": 37,
   "metadata": {
    "executionInfo": {
     "elapsed": 1052,
     "status": "ok",
     "timestamp": 1610558809924,
     "user": {
      "displayName": "Anthony BONFILS",
      "photoUrl": "",
      "userId": "14510571853712567813"
     },
     "user_tz": -60
    },
    "id": "q-gyPJOnwD8y"
   },
   "outputs": [],
   "source": [
    "# Function that takes in movie title as input and outputs most similar movies\n",
    "def get_reco_calcul_live(title, X=tfidf_matrix, nb_films=10):\n",
    "    # Get the index of the movie that matches the title\n",
    "    idx = indices[title]\n",
    "    \n",
    "    if X.shape == tfidf_matrix.shape:\n",
    "        ## Compute the cosine similarity vector according to the current Film\n",
    "        cosine_sim_1titre = cosine_similarity(X[idx,:], X)\n",
    "    else:\n",
    "        cosine_sim_1titre = cosine_similarity(X[idx,:].reshape(1, -1), X)\n",
    "\n",
    "    # Get the pairwsie similarity scores of all movies with that movie\n",
    "    sim_scores = list(enumerate(cosine_sim_1titre[0]))\n",
    "\n",
    "    # Sort the movies based on the similarity scores\n",
    "    sim_scores = sorted(sim_scores, key=lambda x: x[1], reverse=True)\n",
    "\n",
    "    # Get the scores of the n most similar movies\n",
    "    sim_scores = sim_scores[1:nb_films+1]\n",
    "\n",
    "    # Get the movie indices\n",
    "    movie_indices = [i[0] for i in sim_scores]\n",
    "\n",
    "    # Return the top 10 most similar movies\n",
    "    return metadata.iloc[movie_indices]"
   ]
  },
  {
   "cell_type": "code",
   "execution_count": 38,
   "metadata": {
    "colab": {
     "base_uri": "https://localhost:8080/"
    },
    "executionInfo": {
     "elapsed": 968,
     "status": "ok",
     "timestamp": 1610558810309,
     "user": {
      "displayName": "Anthony BONFILS",
      "photoUrl": "",
      "userId": "14510571853712567813"
     },
     "user_tz": -60
    },
    "id": "bLnaxNdpwLJi",
    "outputId": "f3759727-0a9d-4a09-d0ce-eef614f8f662"
   },
   "outputs": [
    {
     "name": "stdout",
     "output_type": "stream",
     "text": [
      "temps execution 0.10975980758666992 secondes\n",
      "Liste de recommandation pour le Film The Dark Knight Rises : 12481                                      The Dark Knight\n",
      "150                                         Batman Forever\n",
      "1328                                        Batman Returns\n",
      "15511                           Batman: Under the Red Hood\n",
      "585                                                 Batman\n",
      "21194    Batman Unmasked: The Psychology of the Dark Kn...\n",
      "9230                    Batman Beyond: Return of the Joker\n",
      "18035                                     Batman: Year One\n",
      "19792              Batman: The Dark Knight Returns, Part 1\n",
      "3095                          Batman: Mask of the Phantasm\n",
      "Name: title, dtype: object\n"
     ]
    }
   ],
   "source": [
    "Film = 'The Dark Knight Rises'\n",
    "t0 = time.time()\n",
    "list_reco = get_reco_calcul_live(Film)\n",
    "tps = time.time() - t0\n",
    "print('temps execution', tps, 'secondes')\n",
    "print('Liste de recommandation pour le Film {} : {}'.format(Film, list_reco['title']))"
   ]
  },
  {
   "cell_type": "code",
   "execution_count": 39,
   "metadata": {},
   "outputs": [
    {
     "name": "stdout",
     "output_type": "stream",
     "text": [
      "temps execution 0.10727500915527344 secondes\n",
      "Liste de recommandation pour le Film The Godfather : 1178               The Godfather: Part II\n",
      "44030    The Godfather Trilogy: 1972-1990\n",
      "1914              The Godfather: Part III\n",
      "23126                          Blood Ties\n",
      "11297                    Household Saints\n",
      "34717                   Start Liquidation\n",
      "10821                            Election\n",
      "38030            A Mother Should Be Loved\n",
      "17729                   Short Sharp Shock\n",
      "26293                  Beck 28 - Familjen\n",
      "Name: title, dtype: object\n"
     ]
    }
   ],
   "source": [
    "Film = 'The Godfather'\n",
    "t0 = time.time()\n",
    "list_reco = get_reco_calcul_live(Film)\n",
    "tps = time.time() - t0\n",
    "print('temps execution', tps, 'secondes')\n",
    "print('Liste de recommandation pour le Film {} : {}'.format(Film, list_reco['title']))"
   ]
  },
  {
   "cell_type": "markdown",
   "metadata": {
    "id": "qIICN4bJtFa7"
   },
   "source": [
    "### Réduction de la dimension du corpus (using PCA / SVD)"
   ]
  },
  {
   "cell_type": "code",
   "execution_count": 31,
   "metadata": {},
   "outputs": [
    {
     "name": "stdout",
     "output_type": "stream",
     "text": [
      "Cumulative explained variance ratio : 0.44246613343135216\n"
     ]
    }
   ],
   "source": [
    "#pca = PCA(n_components=0.99, svd_solver='full')\n",
    "#pca.fit(tfidf_matrix)\n",
    "'''Impossible de faire une PCA avec une matrice sparse'''\n",
    "\n",
    "\n",
    "def SVD_scaling(n_comp_svd):\n",
    "    if n_comp_svd>3000:\n",
    "        n_comp_svd =3000\n",
    "    from sklearn.decomposition import TruncatedSVD\n",
    "    svd = TruncatedSVD(n_components=n_comp_svd, random_state=42)\n",
    "    svd.fit(tfidf_matrix)\n",
    "    print('Cumulative explained variance ratio :', svd.explained_variance_ratio_.sum())\n",
    "    return svd\n",
    "\n",
    "\n",
    "n_comp_svd = 2000\n",
    "svd = SVD_scaling(n_comp_svd)"
   ]
  },
  {
   "cell_type": "markdown",
   "metadata": {},
   "source": [
    "Temps d'execution assez long mais effectué off-line donc ce n'est pas grave"
   ]
  },
  {
   "cell_type": "code",
   "execution_count": 32,
   "metadata": {},
   "outputs": [],
   "source": [
    "X_trunc = svd.transform(tfidf_matrix)"
   ]
  },
  {
   "cell_type": "code",
   "execution_count": 33,
   "metadata": {},
   "outputs": [
    {
     "name": "stdout",
     "output_type": "stream",
     "text": [
      "temps execution 0.774378776550293 secondes\n",
      "Liste de recommandation pour le Film The Dark Knight Rises : 150                                         Batman Forever\n",
      "12481                                      The Dark Knight\n",
      "585                                                 Batman\n",
      "15511                           Batman: Under the Red Hood\n",
      "1328                                        Batman Returns\n",
      "21194    Batman Unmasked: The Psychology of the Dark Kn...\n",
      "25267                                    Batman vs Dracula\n",
      "35983                                    Batman: Bad Blood\n",
      "19792              Batman: The Dark Knight Returns, Part 1\n",
      "18035                                     Batman: Year One\n",
      "Name: title, dtype: object\n"
     ]
    }
   ],
   "source": [
    "Film = 'The Dark Knight Rises'\n",
    "t0 = time.time()\n",
    "list_reco = get_reco_calcul_live(Film, X_trunc)\n",
    "tps = time.time() - t0\n",
    "print('temps execution', tps, 'secondes')\n",
    "print('Liste de recommandation pour le Film {} : {}'.format(Film, list_reco['title']))"
   ]
  },
  {
   "cell_type": "markdown",
   "metadata": {},
   "source": [
    "Les recommandations semblent cohérentes, donc les performances de recommandation sont correctes. En revanche le temps de calcul pour la fonction de recommandation est multiplié par 8 (alors qu'on souhaitait dimininuer). En effet la matrice du corpus vectorisé est plus petite (seulement 2000 features) mais il s'agit d'une matrice dense, ainsi lors du calcul de similarité il y a plus de calcul à effectuer qu'en présence d'une matrice sparse."
   ]
  },
  {
   "cell_type": "markdown",
   "metadata": {},
   "source": [
    "#### Avec peu de composantes pour le SVD"
   ]
  },
  {
   "cell_type": "code",
   "execution_count": 34,
   "metadata": {},
   "outputs": [
    {
     "name": "stdout",
     "output_type": "stream",
     "text": [
      "Cumulative explained variance ratio : 0.07727909798893641\n"
     ]
    }
   ],
   "source": [
    "n_comp_svd = 100\n",
    "svd = SVD_scaling(n_comp_svd)\n",
    "X_trunc = svd.transform(tfidf_matrix)"
   ]
  },
  {
   "cell_type": "code",
   "execution_count": 43,
   "metadata": {},
   "outputs": [
    {
     "name": "stdout",
     "output_type": "stream",
     "text": [
      "temps execution 0.11269736289978027 secondes\n",
      "Liste de recommandation pour le Film The Dark Knight Rises : 35983                         Batman: Bad Blood\n",
      "23897              Teenage Mutant Ninja Turtles\n",
      "40437                                   City 40\n",
      "23717                      Deliver Us from Evil\n",
      "18035                          Batman: Year One\n",
      "32601                       Cyber City Oedo 808\n",
      "40095    Hieronymus Bosch: Touched by the Devil\n",
      "20993                        The Lords of Salem\n",
      "37775                Three Cheers for the Irish\n",
      "39809                          TransFatty Lives\n",
      "Name: title, dtype: object\n"
     ]
    }
   ],
   "source": [
    "Film = 'The Dark Knight Rises'\n",
    "t0 = time.time()\n",
    "list_reco = get_reco_calcul_live(Film, X_trunc)\n",
    "tps = time.time() - t0\n",
    "print('temps execution', tps, 'secondes')\n",
    "print('Liste de recommandation pour le Film {} : {}'.format(Film, list_reco['title']))"
   ]
  },
  {
   "cell_type": "markdown",
   "metadata": {},
   "source": [
    "Pas de gain en temps => la plupart / tous des vecteurs sont composés de moins de 100 mots\n",
    "\n",
    "De plus les recommandation sont maintenant dégradés => Trop de perte d'information avec seulement 100 composantes pour le SVD (explained variance ratio : 0.07727909798893641)"
   ]
  },
  {
   "cell_type": "markdown",
   "metadata": {
    "id": "ez-OEJLcdNS_"
   },
   "source": [
    "## Améliorations"
   ]
  },
  {
   "cell_type": "markdown",
   "metadata": {},
   "source": [
    "### 1. Introduce a popularity filter: \n",
    "#### Simple way \n",
    "This recommender would take the 30 most similar movies, calculate the weighted ratings (using the IMDB formula from above), sort movies based on this rating, and return the top 10 movies.\n"
   ]
  },
  {
   "cell_type": "code",
   "execution_count": 53,
   "metadata": {},
   "outputs": [
    {
     "name": "stdout",
     "output_type": "stream",
     "text": [
      "Liste de recommandation pour le Film The Dark Knight Rises ordonnés par populatité : \n"
     ]
    },
    {
     "data": {
      "text/html": [
       "<div>\n",
       "<style scoped>\n",
       "    .dataframe tbody tr th:only-of-type {\n",
       "        vertical-align: middle;\n",
       "    }\n",
       "\n",
       "    .dataframe tbody tr th {\n",
       "        vertical-align: top;\n",
       "    }\n",
       "\n",
       "    .dataframe thead th {\n",
       "        text-align: right;\n",
       "    }\n",
       "</style>\n",
       "<table border=\"1\" class=\"dataframe\">\n",
       "  <thead>\n",
       "    <tr style=\"text-align: right;\">\n",
       "      <th></th>\n",
       "      <th>title</th>\n",
       "      <th>score</th>\n",
       "    </tr>\n",
       "  </thead>\n",
       "  <tbody>\n",
       "    <tr>\n",
       "      <th>12481</th>\n",
       "      <td>The Dark Knight</td>\n",
       "      <td>8.265477</td>\n",
       "    </tr>\n",
       "    <tr>\n",
       "      <th>10122</th>\n",
       "      <td>Batman Begins</td>\n",
       "      <td>7.460750</td>\n",
       "    </tr>\n",
       "    <tr>\n",
       "      <th>20232</th>\n",
       "      <td>Batman: The Dark Knight Returns, Part 2</td>\n",
       "      <td>7.276985</td>\n",
       "    </tr>\n",
       "    <tr>\n",
       "      <th>19792</th>\n",
       "      <td>Batman: The Dark Knight Returns, Part 1</td>\n",
       "      <td>7.115637</td>\n",
       "    </tr>\n",
       "    <tr>\n",
       "      <th>15511</th>\n",
       "      <td>Batman: Under the Red Hood</td>\n",
       "      <td>7.087743</td>\n",
       "    </tr>\n",
       "    <tr>\n",
       "      <th>41976</th>\n",
       "      <td>The Lego Batman Movie</td>\n",
       "      <td>7.045017</td>\n",
       "    </tr>\n",
       "    <tr>\n",
       "      <th>585</th>\n",
       "      <td>Batman</td>\n",
       "      <td>6.904084</td>\n",
       "    </tr>\n",
       "    <tr>\n",
       "      <th>3095</th>\n",
       "      <td>Batman: Mask of the Phantasm</td>\n",
       "      <td>6.645802</td>\n",
       "    </tr>\n",
       "    <tr>\n",
       "      <th>9230</th>\n",
       "      <td>Batman Beyond: Return of the Joker</td>\n",
       "      <td>6.534978</td>\n",
       "    </tr>\n",
       "    <tr>\n",
       "      <th>18035</th>\n",
       "      <td>Batman: Year One</td>\n",
       "      <td>6.528706</td>\n",
       "    </tr>\n",
       "  </tbody>\n",
       "</table>\n",
       "</div>"
      ],
      "text/plain": [
       "                                         title     score\n",
       "12481                          The Dark Knight  8.265477\n",
       "10122                            Batman Begins  7.460750\n",
       "20232  Batman: The Dark Knight Returns, Part 2  7.276985\n",
       "19792  Batman: The Dark Knight Returns, Part 1  7.115637\n",
       "15511               Batman: Under the Red Hood  7.087743\n",
       "41976                    The Lego Batman Movie  7.045017\n",
       "585                                     Batman  6.904084\n",
       "3095              Batman: Mask of the Phantasm  6.645802\n",
       "9230        Batman Beyond: Return of the Joker  6.534978\n",
       "18035                         Batman: Year One  6.528706"
      ]
     },
     "execution_count": 53,
     "metadata": {},
     "output_type": "execute_result"
    }
   ],
   "source": [
    "def get_popular_correlate_reco(Film):\n",
    "    list_reco = get_reco_calcul_live(Film, nb_films = 30)\n",
    "    list_reco['score'] = list_reco.apply(weighted_rating, axis=1)\n",
    "    list_reco = list_reco.sort_values('score', ascending=False)\n",
    "    return list_reco.head(10)\n",
    "\n",
    "Film = 'The Dark Knight Rises'\n",
    "list_reco = get_popular_correlate_reco(Film)\n",
    "print('Liste de recommandation pour le Film {} ordonnés par populatité : '.format(Film))\n",
    "list_reco[['title', 'score']]"
   ]
  },
  {
   "cell_type": "markdown",
   "metadata": {},
   "source": [
    "#### More efficient : somme pondérée du score de similarité et du score de popularité"
   ]
  },
  {
   "cell_type": "code",
   "execution_count": 81,
   "metadata": {},
   "outputs": [
    {
     "name": "stdout",
     "output_type": "stream",
     "text": [
      "Liste de recommandation pour le Film 'Forrest Gump' ordonnés par populatité :\n"
     ]
    },
    {
     "data": {
      "text/html": [
       "<div>\n",
       "<style scoped>\n",
       "    .dataframe tbody tr th:only-of-type {\n",
       "        vertical-align: middle;\n",
       "    }\n",
       "\n",
       "    .dataframe tbody tr th {\n",
       "        vertical-align: top;\n",
       "    }\n",
       "\n",
       "    .dataframe thead th {\n",
       "        text-align: right;\n",
       "    }\n",
       "</style>\n",
       "<table border=\"1\" class=\"dataframe\">\n",
       "  <thead>\n",
       "    <tr style=\"text-align: right;\">\n",
       "      <th></th>\n",
       "      <th>title</th>\n",
       "    </tr>\n",
       "  </thead>\n",
       "  <tbody>\n",
       "    <tr>\n",
       "      <th>32144</th>\n",
       "      <td>Room</td>\n",
       "    </tr>\n",
       "    <tr>\n",
       "      <th>18465</th>\n",
       "      <td>The Intouchables</td>\n",
       "    </tr>\n",
       "    <tr>\n",
       "      <th>5851</th>\n",
       "      <td>Catch Me If You Can</td>\n",
       "    </tr>\n",
       "    <tr>\n",
       "      <th>20779</th>\n",
       "      <td>Wolf Children</td>\n",
       "    </tr>\n",
       "    <tr>\n",
       "      <th>7834</th>\n",
       "      <td>The Notebook</td>\n",
       "    </tr>\n",
       "    <tr>\n",
       "      <th>522</th>\n",
       "      <td>Schindler's List</td>\n",
       "    </tr>\n",
       "    <tr>\n",
       "      <th>22110</th>\n",
       "      <td>Frozen</td>\n",
       "    </tr>\n",
       "    <tr>\n",
       "      <th>10309</th>\n",
       "      <td>Dilwale Dulhania Le Jayenge</td>\n",
       "    </tr>\n",
       "    <tr>\n",
       "      <th>1624</th>\n",
       "      <td>Good Will Hunting</td>\n",
       "    </tr>\n",
       "    <tr>\n",
       "      <th>314</th>\n",
       "      <td>The Shawshank Redemption</td>\n",
       "    </tr>\n",
       "  </tbody>\n",
       "</table>\n",
       "</div>"
      ],
      "text/plain": [
       "                             title\n",
       "32144                         Room\n",
       "18465             The Intouchables\n",
       "5851           Catch Me If You Can\n",
       "20779                Wolf Children\n",
       "7834                  The Notebook\n",
       "522               Schindler's List\n",
       "22110                       Frozen\n",
       "10309  Dilwale Dulhania Le Jayenge\n",
       "1624             Good Will Hunting\n",
       "314       The Shawshank Redemption"
      ]
     },
     "execution_count": 81,
     "metadata": {},
     "output_type": "execute_result"
    }
   ],
   "source": [
    "def get_mix_popular_correlate_reco(title, X=tfidf_matrix, nb_films=30, alpha=0.5):\n",
    "    # Get the index of the movie that matches the title\n",
    "    idx = indices[title]\n",
    "    \n",
    "    ## Compute the cosine similarity vector according to the current Film\n",
    "    cosine_sim_1titre = cosine_similarity(X[idx,:], X)\n",
    "    \n",
    "    # Get the WR score \n",
    "    WR = metadata.apply(weighted_rating, axis=1) / 10 \n",
    "    \n",
    "    # Combinaison linéaire de sim_score et popularity score\n",
    "    combin_scores = alpha * cosine_sim_1titre + (1 - alpha) * WR.values\n",
    "    \n",
    "    # Get the pairwsie similarity scores of all movies with that movie\n",
    "    sim_WR_scores = list(enumerate(combin_scores[0]))\n",
    "    \n",
    "    # Sort the movies based on the linear combinaison of similarity scores\n",
    "    # and popularity score\n",
    "    sim_WR_scores = sorted(sim_WR_scores, key=lambda x: x[1], reverse=True)\n",
    "\n",
    "    # Get the scores of the n most similar movies\n",
    "    sim_WR_scores = sim_WR_scores[1:nb_films+1]\n",
    "\n",
    "    # Get the movie indices\n",
    "    movie_indices = [i[0] for i in sim_WR_scores]\n",
    "\n",
    "    # Return the top 10 most similar movies\n",
    "    return metadata.iloc[movie_indices]\n",
    "\n",
    "## poids de la similarité par rapport à la popularité\n",
    "## alpha * similarity score + (1-alpha) * popularity score\n",
    "alpha = 0.6 \n",
    "\n",
    "Film = 'Forrest Gump' ## Fight Club ## Forrest Gump ## The Dark Knight Rises\n",
    "list_reco = get_mix_popular_correlate_reco(Film, alpha=alpha)\n",
    "print(\"Liste de recommandation pour le Film '{}' ordonnés par populatité :\".format(Film))\n",
    "list_reco[['title']].head(10)"
   ]
  },
  {
   "cell_type": "markdown",
   "metadata": {},
   "source": [
    " ### 2. get_recommandation with title suggestion "
   ]
  },
  {
   "cell_type": "code",
   "execution_count": 83,
   "metadata": {},
   "outputs": [
    {
     "data": {
      "text/plain": [
       "<45466x22834 sparse matrix of type '<class 'numpy.float64'>'\n",
       "\twith 92758 stored elements in Compressed Sparse Row format>"
      ]
     },
     "execution_count": 83,
     "metadata": {},
     "output_type": "execute_result"
    }
   ],
   "source": [
    "#Define a TF-IDF Vectorizer Object. Remove all english stop words such as 'the', 'a'\n",
    "tfidf2 = TfidfVectorizer(stop_words='english')\n",
    "\n",
    "#Replace NaN with an empty string\n",
    "metadata['title'] = metadata['title'].fillna('')\n",
    "\n",
    "#Construct the required TF-IDF matrix by fitting and transforming the data\n",
    "tfidf_title = tfidf2.fit_transform(metadata['title'])\n",
    "\n",
    "tfidf_title"
   ]
  },
  {
   "cell_type": "code",
   "execution_count": null,
   "metadata": {},
   "outputs": [],
   "source": [
    "alpha = 0.6 \n",
    "try:\n",
    "    title_film = input('enter the title of the movie: ')\n",
    "    list_reco = get_mix_popular_correlate_reco(title_film, alpha=alpha)\n",
    "    print(\"List recommandation for Film '{}' :\".format(Film))\n",
    "    list_reco[['title']].head(10)\n",
    "except:\n",
    "    print('Do you mean :')\n",
    "    title = tfidf2.transform([title_film])\n",
    "    list_film_potentiels = get_reco_calcul_live(title, X=tfidf_title, nb_films=10)\n",
    "    print(list_film_potentiels[['title']])\n",
    "    \n",
    "    \n",
    "    "
   ]
  }
 ],
 "metadata": {
  "colab": {
   "collapsed_sections": [],
   "name": "Recommendation_system.ipynb",
   "provenance": []
  },
  "kernelspec": {
   "display_name": "Python 3",
   "language": "python",
   "name": "python3"
  },
  "language_info": {
   "codemirror_mode": {
    "name": "ipython",
    "version": 3
   },
   "file_extension": ".py",
   "mimetype": "text/x-python",
   "name": "python",
   "nbconvert_exporter": "python",
   "pygments_lexer": "ipython3",
   "version": "3.7.9"
  }
 },
 "nbformat": 4,
 "nbformat_minor": 1
}
