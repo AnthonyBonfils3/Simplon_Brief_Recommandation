{
 "cells": [
  {
   "cell_type": "code",
   "execution_count": 120,
   "id": "corporate-private",
   "metadata": {},
   "outputs": [],
   "source": [
    "import pandas as pd\n",
    "import numpy as np\n",
    "import matplotlib.pyplot as plt\n",
    "\n",
    "from sklearn.model_selection import GridSearchCV, RandomizedSearchCV\n",
    "from sklearn.model_selection import ParameterGrid\n",
    "from sklearn.metrics import make_scorer"
   ]
  },
  {
   "cell_type": "code",
   "execution_count": 228,
   "id": "divine-project",
   "metadata": {},
   "outputs": [
    {
     "name": "stdout",
     "output_type": "stream",
     "text": [
      "artist rank : \n",
      "                     totalUsers  totalPlays     avgPlays\n",
      "name                                                   \n",
      "Britney Spears             522     2393140  4584.559387\n",
      "Depeche Mode               282     1301308  4614.567376\n",
      "Lady Gaga                  611     1291387  2113.563011\n",
      "Christina Aguilera         407     1058405  2600.503686\n",
      "Paramore                   399      963449  2414.659148\n",
      "...                        ...         ...          ...\n",
      "Morris                       1           1     1.000000\n",
      "Eddie Kendricks              1           1     1.000000\n",
      "Excess Pressure              1           1     1.000000\n",
      "My Mine                      1           1     1.000000\n",
      "A.M. Architect               1           1     1.000000\n",
      "\n",
      "[17632 rows x 3 columns]\n"
     ]
    }
   ],
   "source": [
    "plays = pd.read_csv('Datas/lastfm/user_artists.dat', sep='\\t') ## Dataset of relation between an artist \n",
    "## an user and the number listening \n",
    "artists = pd.read_csv('Datas/lastfm/artists.dat', sep='\\t', usecols=['id','name']) ## id\tname\turl\tpictureURL\n",
    "#print(plays)\n",
    "#print(artists)\n",
    "\n",
    "# Merge artist and user pref data\n",
    "ap = pd.merge(artists, plays, how=\"inner\", left_on=\"id\", right_on=\"artistID\")\n",
    "ap = ap.rename(columns={\"weight\": \"playCount\"})\n",
    "#print('ap : \\n', ap)\n",
    "\n",
    "# Group artist by name\n",
    "artist_rank = ap.groupby(['name']) \\\n",
    "    .agg({'userID' : 'count', 'playCount' : 'sum'}) \\\n",
    "    .rename(columns={\"userID\" : 'totalUsers', \"playCount\" : \"totalPlays\"}) \\\n",
    "    .sort_values(['totalPlays'], ascending=False)\n",
    "\n",
    "artist_rank['avgPlays'] = artist_rank['totalPlays'] / artist_rank['totalUsers']\n",
    "print('artist rank : \\n', artist_rank)"
   ]
  },
  {
   "cell_type": "code",
   "execution_count": 229,
   "id": "offshore-battle",
   "metadata": {
    "scrolled": false
   },
   "outputs": [
    {
     "name": "stdout",
     "output_type": "stream",
     "text": [
      "density: 0.28 %\n"
     ]
    }
   ],
   "source": [
    "# Merge into ap matrix\n",
    "ap = ap.join(artist_rank, on=\"name\", how=\"inner\") \\\n",
    "    .sort_values(['playCount'], ascending=False)\n",
    "#print('ap : \\n', ap)\n",
    "\n",
    "# Preprocessing\n",
    "pc = ap.playCount\n",
    "play_count_scaled = (pc - pc.min()) / (pc.max() - pc.min())\n",
    "#print(play_count_scaled)\n",
    "\n",
    "ap = ap.assign(playCountScaled=play_count_scaled)\n",
    "#print('ap : \\n', ap)\n",
    "\n",
    "# Build a user-artist rating matrix \n",
    "ratings_df = ap.pivot(index='userID', columns='artistID', values='playCountScaled')\n",
    "ratings = ratings_df.fillna(0).values\n",
    "#print('ratings : \\n', ratings)\n",
    "\n",
    "# Show sparsity\n",
    "sparsity = float(len(ratings.nonzero()[0])) / (ratings.shape[0] * ratings.shape[1]) * 100\n",
    "print(\"density: %.2f %%\" % sparsity)"
   ]
  },
  {
   "cell_type": "code",
   "execution_count": 230,
   "id": "nasty-jumping",
   "metadata": {
    "scrolled": true
   },
   "outputs": [
    {
     "name": "stdout",
     "output_type": "stream",
     "text": [
      "rating matrix shape (1892, 17632)\n"
     ]
    }
   ],
   "source": [
    "from scipy.sparse import csr_matrix, csc_matrix, coo_matrix\n",
    "'''selon le type de matrice sparse, la compresion n est pas la même'''\n",
    "\n",
    "# Build a sparse matrix\n",
    "X = csr_matrix(ratings)\n",
    "#print(X)\n",
    "\n",
    "n_users, n_items = ratings_df.shape\n",
    "print(\"rating matrix shape\", ratings_df.shape)\n",
    "\n",
    "user_ids = ratings_df.index.values\n",
    "artist_names = ap.sort_values(\"artistID\")[\"name\"].unique()\n"
   ]
  },
  {
   "cell_type": "code",
   "execution_count": 116,
   "id": "contrary-collection",
   "metadata": {},
   "outputs": [
    {
     "data": {
      "text/plain": [
       "<1892x17632 sparse matrix of type '<class 'numpy.int32'>'\n",
       "\twith 73758 stored elements in COOrdinate format>"
      ]
     },
     "execution_count": 116,
     "metadata": {},
     "output_type": "execute_result"
    }
   ],
   "source": [
    "from lightfm import LightFM\n",
    "from lightfm.evaluation import auc_score, precision_at_k, recall_at_k\n",
    "from lightfm.cross_validation import random_train_test_split\n",
    "from lightfm.data import Dataset\n",
    "\n",
    "# Build data references + train test\n",
    "Xcoo = X.tocoo()\n",
    "\n",
    "# initialise le dataset du type (triplet)\n",
    "data = Dataset()\n",
    "data.fit(np.arange(n_users), np.arange(n_items))\n",
    "\n",
    "interactions, weights = data.build_interactions(zip(Xcoo.row, Xcoo.col, Xcoo.data)) \n",
    "train, test = random_train_test_split(interactions)\n",
    "train"
   ]
  },
  {
   "cell_type": "code",
   "execution_count": 117,
   "id": "billion-tamil",
   "metadata": {},
   "outputs": [
    {
     "data": {
      "text/plain": [
       "<lightfm.lightfm.LightFM at 0x7f9096c1b3d0>"
      ]
     },
     "execution_count": 117,
     "metadata": {},
     "output_type": "execute_result"
    }
   ],
   "source": [
    "# Train\n",
    "model = LightFM(learning_rate=0.05, loss='warp')\n",
    "model.fit(train, epochs=10, num_threads=2)"
   ]
  },
  {
   "cell_type": "code",
   "execution_count": 118,
   "id": "respective-vietnam",
   "metadata": {},
   "outputs": [
    {
     "name": "stdout",
     "output_type": "stream",
     "text": [
      "Precision: train 0.39, test 0.13.\n",
      "AUC: train 0.97, test 0.85.\n"
     ]
    }
   ],
   "source": [
    "# Evaluate\n",
    "train_precision = precision_at_k(model, train, k=10).mean()\n",
    "test_precision = precision_at_k(model, test, k=10, train_interactions=train).mean()\n",
    "\n",
    "train_auc = auc_score(model, train).mean()\n",
    "test_auc = auc_score(model, test, train_interactions=train).mean()\n",
    "\n",
    "print('Precision: train %.2f, test %.2f.' % (train_precision, test_precision))\n",
    "print('AUC: train %.2f, test %.2f.' % (train_auc, test_auc))"
   ]
  },
  {
   "cell_type": "code",
   "execution_count": 8,
   "id": "registered-rebound",
   "metadata": {},
   "outputs": [
    {
     "name": "stdout",
     "output_type": "stream",
     "text": [
      "['Depeche Mode' 'Madonna' 'Pet Shop Boys' ... 'Supersilent'\n",
      " 'Sheryl Nome / Ranka Lee' 'Chris Joss']\n"
     ]
    }
   ],
   "source": [
    "# Predict\n",
    "scores = model.predict(0, np.arange(n_items))\n",
    "top_items = artist_names[np.argsort(-scores)]\n",
    "print(top_items)"
   ]
  },
  {
   "cell_type": "markdown",
   "id": "according-attraction",
   "metadata": {},
   "source": [
    "## Part 1 : Fonction de recommandation\n",
    "On va entreiner le modèle avec fonction loss = 'warp'"
   ]
  },
  {
   "cell_type": "code",
   "execution_count": 9,
   "id": "ultimate-clearing",
   "metadata": {},
   "outputs": [
    {
     "data": {
      "text/plain": [
       "<lightfm.lightfm.LightFM at 0x7f909fb753d0>"
      ]
     },
     "execution_count": 9,
     "metadata": {},
     "output_type": "execute_result"
    }
   ],
   "source": [
    "model = LightFM(learning_rate=0.05, loss='warp')\n",
    "model.fit(train, epochs=10, num_threads=2)"
   ]
  },
  {
   "cell_type": "code",
   "execution_count": 10,
   "id": "balanced-might",
   "metadata": {},
   "outputs": [],
   "source": [
    "def get_recommandation(user, model=model, n_reco=10, print_ok=False):\n",
    "    \n",
    "    liste_user_idx = list(user_ids)\n",
    "    idx = liste_user_idx.index(userID)\n",
    "    scores = model.predict(idx, np.arange(n_items))\n",
    "    top_items_pred = artist_names[np.argsort(-scores)]\n",
    "    if print_ok:\n",
    "        print(f'Liste des {n_reco} artistes recommandés :', top_items_pred[:n_reco])\n",
    "    return top_items"
   ]
  },
  {
   "cell_type": "code",
   "execution_count": 11,
   "id": "empty-nature",
   "metadata": {},
   "outputs": [],
   "source": [
    "def get_ground_truth(user, n_reco=10, print_ok=False):\n",
    "    \n",
    "    liste_user_idx = list(user_ids)\n",
    "    idx = liste_user_idx.index(userID)\n",
    "    top_items_true = ap[ap['userID']==idx] \\\n",
    "                    .sort_values(['playCountScaled'], ascending=False) \\\n",
    "                    .name[:10]\n",
    "    if print_ok:\n",
    "        print(f'Liste des {n_reco} artistes réellement écoutés :', top_items_true[:n_reco])\n",
    "    return top_items"
   ]
  },
  {
   "cell_type": "code",
   "execution_count": 12,
   "id": "respected-taiwan",
   "metadata": {},
   "outputs": [
    {
     "name": "stdout",
     "output_type": "stream",
     "text": [
      "31\n",
      "Liste des 10 artistes recommandés : ['Radiohead' 'The Beatles' 'Interpol' 'Placebo' 'Joy Division'\n",
      " 'Franz Ferdinand' 'The Smiths' 'Sigur Rós' 'Nine Inch Nails'\n",
      " 'The Strokes']\n",
      "Liste des 10 artistes réellement écoutés : 2579       Depeche Mode\n",
      "41304     Pet Shop Boys\n",
      "42674    Bonanza Banzai\n",
      "42675            Recoil\n",
      "42707          Ladytron\n",
      "40578          t.A.T.u.\n",
      "37813        Nitzer Ebb\n",
      "42763              Fake\n",
      "42764        Hubert Kah\n",
      "13184    Britney Spears\n",
      "Name: name, dtype: object\n"
     ]
    }
   ],
   "source": [
    "userID = 34\n",
    "liste_user_idx = list(user_ids)\n",
    "idx = liste_user_idx.index(userID)\n",
    "print(idx)\n",
    "\n",
    "top_artists_predicted = get_recommandation(userID, print_ok=True)\n",
    "top_artists_true = get_ground_truth(userID, print_ok=True)"
   ]
  },
  {
   "cell_type": "markdown",
   "id": "private-bolivia",
   "metadata": {},
   "source": [
    "## Part 2"
   ]
  },
  {
   "cell_type": "markdown",
   "id": "together-yahoo",
   "metadata": {},
   "source": [
    "### Choix de la meilleur fonction de coût"
   ]
  },
  {
   "cell_type": "code",
   "execution_count": 55,
   "id": "british-nomination",
   "metadata": {},
   "outputs": [],
   "source": [
    "import time\n",
    "from collections import defaultdict\n",
    "\n",
    "loss_val = ['logistic', 'bpr', 'warp', 'warp-kos']\n",
    "\n",
    "def append_res_list(res, name, time, prec, recall, AUC):\n",
    "    res[name].append([\n",
    "                time,\n",
    "                prec,  \n",
    "                recall,           \n",
    "                AUC,           \n",
    "            ])\n",
    "    return res\n",
    "\n",
    "train_res = defaultdict(list)\n",
    "test_res = defaultdict(list)\n",
    "for loss in loss_val:\n",
    "    name = 'loss-'+loss\n",
    "    \n",
    "    model = LightFM(learning_rate=0.05, loss=loss)\n",
    "    t0 = time.time()\n",
    "    model.fit(train, epochs=10, num_threads=2)\n",
    "    fit_time = time.time() - t0\n",
    "    \n",
    "    ## precision\n",
    "    train_precision = precision_at_k(model, train, k=10).mean()\n",
    "    test_precision = precision_at_k(model, test, k=10, train_interactions=train).mean()\n",
    "    \n",
    "    ## recal\n",
    "    train_recall = recall_at_k(model, train, k=10).mean()\n",
    "    test_recall = recall_at_k(model, test, k=10, train_interactions=train).mean()\n",
    "    \n",
    "    ## AUC\n",
    "    train_auc = auc_score(model, train).mean()\n",
    "    test_auc = auc_score(model, test, train_interactions=train).mean()\n",
    "    \n",
    "    ## resultats summury\n",
    "    \n",
    "    train_res = append_res_list(train_res, name, fit_time, \n",
    "                         train_precision, train_recall, train_auc)\n",
    "    \n",
    "\n",
    "    test_res = append_res_list(test_res, name, fit_time, \n",
    "                         test_precision, test_recall, test_auc)"
   ]
  },
  {
   "cell_type": "code",
   "execution_count": 56,
   "id": "previous-yemen",
   "metadata": {},
   "outputs": [],
   "source": [
    "def print_df_resultats(res):\n",
    "    # Compute mean and std\n",
    "    final = {}\n",
    "    for model in res:\n",
    "        arr = np.array(res[model])\n",
    "        final[model] = {\n",
    "            \"time (s)\" : arr[:,0].mean().round(3),\n",
    "            \"precision \" : arr[:,1].mean().round(3),\n",
    "            \"recall\" : arr[:,2].mean().round(3),\n",
    "            \"AUC\" : arr[:,3].mean().round(3),\n",
    "        }\n",
    "\n",
    "    df = pd.DataFrame.from_dict(final, orient=\"index\").round(3)\n",
    "    return df"
   ]
  },
  {
   "cell_type": "code",
   "execution_count": 15,
   "id": "distant-reaction",
   "metadata": {},
   "outputs": [
    {
     "name": "stdout",
     "output_type": "stream",
     "text": [
      "Results obtained on train set\n"
     ]
    },
    {
     "data": {
      "text/html": [
       "<div>\n",
       "<style scoped>\n",
       "    .dataframe tbody tr th:only-of-type {\n",
       "        vertical-align: middle;\n",
       "    }\n",
       "\n",
       "    .dataframe tbody tr th {\n",
       "        vertical-align: top;\n",
       "    }\n",
       "\n",
       "    .dataframe thead th {\n",
       "        text-align: right;\n",
       "    }\n",
       "</style>\n",
       "<table border=\"1\" class=\"dataframe\">\n",
       "  <thead>\n",
       "    <tr style=\"text-align: right;\">\n",
       "      <th></th>\n",
       "      <th>time (s)</th>\n",
       "      <th>precision</th>\n",
       "      <th>recall</th>\n",
       "      <th>AUC</th>\n",
       "    </tr>\n",
       "  </thead>\n",
       "  <tbody>\n",
       "    <tr>\n",
       "      <th>loss-logistic</th>\n",
       "      <td>0.396</td>\n",
       "      <td>0.200</td>\n",
       "      <td>0.052</td>\n",
       "      <td>0.887</td>\n",
       "    </tr>\n",
       "    <tr>\n",
       "      <th>loss-bpr</th>\n",
       "      <td>0.479</td>\n",
       "      <td>0.369</td>\n",
       "      <td>0.095</td>\n",
       "      <td>0.851</td>\n",
       "    </tr>\n",
       "    <tr>\n",
       "      <th>loss-warp</th>\n",
       "      <td>0.500</td>\n",
       "      <td>0.370</td>\n",
       "      <td>0.095</td>\n",
       "      <td>0.964</td>\n",
       "    </tr>\n",
       "    <tr>\n",
       "      <th>loss-warp-kos</th>\n",
       "      <td>0.947</td>\n",
       "      <td>0.346</td>\n",
       "      <td>0.089</td>\n",
       "      <td>0.890</td>\n",
       "    </tr>\n",
       "  </tbody>\n",
       "</table>\n",
       "</div>"
      ],
      "text/plain": [
       "               time (s)  precision   recall    AUC\n",
       "loss-logistic     0.396       0.200   0.052  0.887\n",
       "loss-bpr          0.479       0.369   0.095  0.851\n",
       "loss-warp         0.500       0.370   0.095  0.964\n",
       "loss-warp-kos     0.947       0.346   0.089  0.890"
      ]
     },
     "execution_count": 15,
     "metadata": {},
     "output_type": "execute_result"
    }
   ],
   "source": [
    "print(\"Results obtained on train set\")\n",
    "df_train = print_df_resultats(train_res)\n",
    "df_train"
   ]
  },
  {
   "cell_type": "code",
   "execution_count": 16,
   "id": "varied-introduction",
   "metadata": {
    "scrolled": true
   },
   "outputs": [
    {
     "name": "stdout",
     "output_type": "stream",
     "text": [
      "Results obtained on test set\n"
     ]
    },
    {
     "data": {
      "text/html": [
       "<div>\n",
       "<style scoped>\n",
       "    .dataframe tbody tr th:only-of-type {\n",
       "        vertical-align: middle;\n",
       "    }\n",
       "\n",
       "    .dataframe tbody tr th {\n",
       "        vertical-align: top;\n",
       "    }\n",
       "\n",
       "    .dataframe thead th {\n",
       "        text-align: right;\n",
       "    }\n",
       "</style>\n",
       "<table border=\"1\" class=\"dataframe\">\n",
       "  <thead>\n",
       "    <tr style=\"text-align: right;\">\n",
       "      <th></th>\n",
       "      <th>time (s)</th>\n",
       "      <th>precision</th>\n",
       "      <th>recall</th>\n",
       "      <th>AUC</th>\n",
       "    </tr>\n",
       "  </thead>\n",
       "  <tbody>\n",
       "    <tr>\n",
       "      <th>loss-logistic</th>\n",
       "      <td>0.396</td>\n",
       "      <td>0.070</td>\n",
       "      <td>0.072</td>\n",
       "      <td>0.810</td>\n",
       "    </tr>\n",
       "    <tr>\n",
       "      <th>loss-bpr</th>\n",
       "      <td>0.479</td>\n",
       "      <td>0.133</td>\n",
       "      <td>0.136</td>\n",
       "      <td>0.783</td>\n",
       "    </tr>\n",
       "    <tr>\n",
       "      <th>loss-warp</th>\n",
       "      <td>0.500</td>\n",
       "      <td>0.131</td>\n",
       "      <td>0.133</td>\n",
       "      <td>0.856</td>\n",
       "    </tr>\n",
       "    <tr>\n",
       "      <th>loss-warp-kos</th>\n",
       "      <td>0.947</td>\n",
       "      <td>0.127</td>\n",
       "      <td>0.130</td>\n",
       "      <td>0.824</td>\n",
       "    </tr>\n",
       "  </tbody>\n",
       "</table>\n",
       "</div>"
      ],
      "text/plain": [
       "               time (s)  precision   recall    AUC\n",
       "loss-logistic     0.396       0.070   0.072  0.810\n",
       "loss-bpr          0.479       0.133   0.136  0.783\n",
       "loss-warp         0.500       0.131   0.133  0.856\n",
       "loss-warp-kos     0.947       0.127   0.130  0.824"
      ]
     },
     "execution_count": 16,
     "metadata": {},
     "output_type": "execute_result"
    }
   ],
   "source": [
    "print(\"Results obtained on test set\")\n",
    "df_test = print_df_resultats(test_res)\n",
    "df_test"
   ]
  },
  {
   "cell_type": "markdown",
   "id": "selective-contrast",
   "metadata": {},
   "source": [
    "Le meilleur modèle terme de précision, recall et AUC est lorsque l'on choisi la fonction loss = 'wrap'. C'est vrai pour le training et le testing set."
   ]
  },
  {
   "cell_type": "markdown",
   "id": "stopped-spider",
   "metadata": {},
   "source": [
    "### Etude de la convergence"
   ]
  },
  {
   "cell_type": "code",
   "execution_count": 102,
   "id": "diverse-florence",
   "metadata": {},
   "outputs": [],
   "source": [
    "learn_rate = 0.05\n",
    "nb_epochs = 30\n",
    "model1 = LightFM(learning_rate=learn_rate, loss='warp', random_state = 42)\n",
    "\n",
    "def append_res(res, name, time, epochs, AUC):\n",
    "    res[name].append([\n",
    "                time,\n",
    "                epochs,           \n",
    "                AUC,           \n",
    "            ])\n",
    "    return res\n",
    "\n",
    "def AUC_fcn_of_epochs(model, train, nb_epochs):\n",
    "    train_res = defaultdict(list)\n",
    "    for i in range(nb_epochs):\n",
    "        name = 'ligthFM-loss_wrap'\n",
    "        t0 = time.time()  \n",
    "        model.fit_partial(train, epochs=1, num_threads=2)\n",
    "        fit_time = time.time() - t0\n",
    "\n",
    "        ## AUC\n",
    "        train_auc = auc_score(model, train).mean()\n",
    "        test_auc = auc_score(model, test, train_interactions=train).mean()\n",
    "\n",
    "        ## resultats summury\n",
    "\n",
    "        train_res = append_res(train_res, name, fit_time, \n",
    "                             i, train_auc)\n",
    "    return train_res"
   ]
  },
  {
   "cell_type": "code",
   "execution_count": 103,
   "id": "photographic-working",
   "metadata": {},
   "outputs": [],
   "source": [
    "train_res = AUC_fcn_of_epochs(model1, train, nb_epochs)"
   ]
  },
  {
   "cell_type": "code",
   "execution_count": 104,
   "id": "biblical-story",
   "metadata": {},
   "outputs": [],
   "source": [
    "arr = np.array(train_res['ligthFM-loss_wrap'])\n",
    "df = pd.DataFrame(arr, columns=['time_s', 'i', 'AUC'])\n",
    "#df.head(7)"
   ]
  },
  {
   "cell_type": "code",
   "execution_count": 105,
   "id": "informative-principle",
   "metadata": {},
   "outputs": [
    {
     "name": "stdout",
     "output_type": "stream",
     "text": [
      "A partir d'un epochs = 18, l'AUC est suppérieur à 0.98 (valeur : 0.98).\n",
      "Le temps d'apprentissage est de 1.29 secondes\n",
      "Attention cette courbe dépend du learning rate choisi.\n"
     ]
    },
    {
     "data": {
      "image/png": "[encoded data removed]",
      "text/plain": [
       "<Figure size 864x576 with 1 Axes>"
      ]
     },
     "metadata": {
      "needs_background": "light"
     },
     "output_type": "display_data"
    }
   ],
   "source": [
    "AUC_lim = 0.98\n",
    "\n",
    "def plot_AUC_fcn_of_epochs(df, AUC_lim, learn_rate):\n",
    "    for idx in df.index:\n",
    "        if df.AUC[idx]>=AUC_lim:\n",
    "            break\n",
    "\n",
    "    plt.figure(figsize=(12,8))\n",
    "    plt.plot(df[['i']].values, df[['AUC']].values, label=f'AUC curve, learning rate: {learn_rate}')\n",
    "    plt.plot(df.i.values, AUC_lim*np.ones(len(df.i)), 'r', label=f'limite : {AUC_lim}')\n",
    "    plt.xlabel('epochs')\n",
    "    plt.ylabel('AUC')\n",
    "    plt.legend()\n",
    "\n",
    "\n",
    "    print(f\"A partir d'un epochs = {int(df.i[idx])}, l'AUC est suppérieur à {AUC_lim} (valeur : {df.AUC[idx].round(3)}).\")\n",
    "    print(f\"Le temps d'apprentissage est de {df.time_s[:idx].sum().round(3)} secondes\")\n",
    "    \n",
    "plot_AUC_fcn_of_epochs(df, AUC_lim, learn_rate)\n",
    "print('Attention cette courbe dépend du learning rate choisi.')"
   ]
  },
  {
   "cell_type": "code",
   "execution_count": 106,
   "id": "quality-adjustment",
   "metadata": {},
   "outputs": [
    {
     "name": "stdout",
     "output_type": "stream",
     "text": [
      "A partir d'un epochs = 49, l'AUC est suppérieur à 0.98 (valeur : 0.927).\n",
      "Le temps d'apprentissage est de 3.105 secondes\n"
     ]
    },
    {
     "data": {
      "image/png": "[encoded data removed]",
      "text/plain": [
       "<Figure size 864x576 with 1 Axes>"
      ]
     },
     "metadata": {
      "needs_background": "light"
     },
     "output_type": "display_data"
    }
   ],
   "source": [
    "learn_rate = 0.01\n",
    "nb_epochs = 50\n",
    "model1 = LightFM(learning_rate=learn_rate, loss='warp', random_state = 42)\n",
    "train_res = AUC_fcn_of_epochs(model1, train, nb_epochs)\n",
    "\n",
    "arr = np.array(train_res['ligthFM-loss_wrap'])\n",
    "df = pd.DataFrame(arr, columns=['time_s', 'i', 'AUC'])\n",
    "\n",
    "plot_AUC_fcn_of_epochs(df, AUC_lim, learn_rate)"
   ]
  },
  {
   "cell_type": "markdown",
   "id": "premium-verse",
   "metadata": {},
   "source": [
    "Ici, le learning rate est trop bas, l'algorithme n'as pas le temps d'apprendre suffisament rapidement pour obtenir l'AUC désiré."
   ]
  },
  {
   "cell_type": "markdown",
   "id": "every-display",
   "metadata": {},
   "source": [
    "### Test d'optimisation d'hyper-paramètres avec GreadSearchCV\n",
    "\n",
    "Le module GreadSearchCV de sklearn n'compatible avec les modèles lightfm (due à la forme des matrices pour le train et le test set, ici on applique un masque sur la matrice X alors que dans sklearn seleument certaines lignes sont sélectionnées).\n",
    "\n",
    "Mais le jeu en valant la chandèle pour pouvoir optimiser tous les paramètre avec une grille de recherche, nous allons implémenter notre fonction de GridSearch."
   ]
  },
  {
   "cell_type": "code",
   "execution_count": 32,
   "id": "arctic-legislation",
   "metadata": {},
   "outputs": [
    {
     "data": {
      "text/plain": [
       "dict_keys(['loss', 'learning_schedule', 'no_components', 'learning_rate', 'k', 'n', 'rho', 'epsilon', 'max_sampled', 'item_alpha', 'user_alpha', 'random_state'])"
      ]
     },
     "execution_count": 32,
     "metadata": {},
     "output_type": "execute_result"
    }
   ],
   "source": [
    "## affichage des paramètre \n",
    "LightFM().get_params().keys()"
   ]
  },
  {
   "cell_type": "code",
   "execution_count": 78,
   "id": "cloudy-document",
   "metadata": {},
   "outputs": [],
   "source": [
    "AUC_scorer = make_scorer(auc_score)\n",
    "\n",
    "grid_params = {\n",
    "    'loss' : ['bpr', 'warp', 'warp-kos'], # 'logistic', \n",
    "    'no_components' : [1, 5, 10, 20],\n",
    "    'learning_rate' : [0.5, 1e-2, 5e-2],\n",
    "    'k' : [1, 5, 10, 20],\n",
    "} \n",
    "\n",
    "list_combin_params = list(ParameterGrid(grid_params))\n"
   ]
  },
  {
   "cell_type": "code",
   "execution_count": 83,
   "id": "silent-struggle",
   "metadata": {},
   "outputs": [],
   "source": [
    "def my_GridSearch(list_combin_params):\n",
    "    train_res = defaultdict(list)\n",
    "    test_res = defaultdict(list)\n",
    "    i=0\n",
    "    for params in list_combin_params:\n",
    "        print(params.items())\n",
    "        name = i\n",
    "        \n",
    "        model = LightFM(**params)\n",
    "        \n",
    "        t0 = time.time()\n",
    "        model.fit(train, epochs=15, num_threads=2)\n",
    "        fit_time = time.time() - t0\n",
    "\n",
    "        ## precision\n",
    "        train_precision = precision_at_k(model, train, k=10).mean()\n",
    "        test_precision = precision_at_k(model, test, k=10, train_interactions=train).mean()\n",
    "\n",
    "        ## recal\n",
    "        train_recall = recall_at_k(model, train, k=10).mean()\n",
    "        test_recall = recall_at_k(model, test, k=10, train_interactions=train).mean()\n",
    "\n",
    "        ## AUC\n",
    "        train_auc = auc_score(model, train).mean()\n",
    "        test_auc = auc_score(model, test, train_interactions=train).mean()\n",
    "\n",
    "        ## resultats summury\n",
    "\n",
    "        train_res = append_res_list(train_res, name, fit_time, \n",
    "                             train_precision, train_recall, train_auc)\n",
    "\n",
    "\n",
    "        test_res = append_res_list(test_res, name, fit_time, \n",
    "                             test_precision, test_recall, test_auc)\n",
    "        i+=1\n",
    "    return train_res, test_res"
   ]
  },
  {
   "cell_type": "code",
   "execution_count": 84,
   "id": "republican-welsh",
   "metadata": {
    "scrolled": true
   },
   "outputs": [
    {
     "name": "stdout",
     "output_type": "stream",
     "text": [
      "dict_items([('k', 1), ('learning_rate', 0.5), ('loss', 'bpr'), ('no_components', 1)])\n",
      "dict_items([('k', 1), ('learning_rate', 0.5), ('loss', 'bpr'), ('no_components', 5)])\n",
      "dict_items([('k', 1), ('learning_rate', 0.5), ('loss', 'bpr'), ('no_components', 10)])\n",
      "dict_items([('k', 1), ('learning_rate', 0.5), ('loss', 'bpr'), ('no_components', 20)])\n",
      "dict_items([('k', 1), ('learning_rate', 0.5), ('loss', 'warp'), ('no_components', 1)])\n",
      "dict_items([('k', 1), ('learning_rate', 0.5), ('loss', 'warp'), ('no_components', 5)])\n",
      "dict_items([('k', 1), ('learning_rate', 0.5), ('loss', 'warp'), ('no_components', 10)])\n",
      "dict_items([('k', 1), ('learning_rate', 0.5), ('loss', 'warp'), ('no_components', 20)])\n",
      "dict_items([('k', 1), ('learning_rate', 0.5), ('loss', 'warp-kos'), ('no_components', 1)])\n",
      "dict_items([('k', 1), ('learning_rate', 0.5), ('loss', 'warp-kos'), ('no_components', 5)])\n",
      "dict_items([('k', 1), ('learning_rate', 0.5), ('loss', 'warp-kos'), ('no_components', 10)])\n",
      "dict_items([('k', 1), ('learning_rate', 0.5), ('loss', 'warp-kos'), ('no_components', 20)])\n",
      "dict_items([('k', 1), ('learning_rate', 0.01), ('loss', 'bpr'), ('no_components', 1)])\n",
      "dict_items([('k', 1), ('learning_rate', 0.01), ('loss', 'bpr'), ('no_components', 5)])\n",
      "dict_items([('k', 1), ('learning_rate', 0.01), ('loss', 'bpr'), ('no_components', 10)])\n",
      "dict_items([('k', 1), ('learning_rate', 0.01), ('loss', 'bpr'), ('no_components', 20)])\n",
      "dict_items([('k', 1), ('learning_rate', 0.01), ('loss', 'warp'), ('no_components', 1)])\n",
      "dict_items([('k', 1), ('learning_rate', 0.01), ('loss', 'warp'), ('no_components', 5)])\n",
      "dict_items([('k', 1), ('learning_rate', 0.01), ('loss', 'warp'), ('no_components', 10)])\n",
      "dict_items([('k', 1), ('learning_rate', 0.01), ('loss', 'warp'), ('no_components', 20)])\n",
      "dict_items([('k', 1), ('learning_rate', 0.01), ('loss', 'warp-kos'), ('no_components', 1)])\n",
      "dict_items([('k', 1), ('learning_rate', 0.01), ('loss', 'warp-kos'), ('no_components', 5)])\n",
      "dict_items([('k', 1), ('learning_rate', 0.01), ('loss', 'warp-kos'), ('no_components', 10)])\n",
      "dict_items([('k', 1), ('learning_rate', 0.01), ('loss', 'warp-kos'), ('no_components', 20)])\n",
      "dict_items([('k', 1), ('learning_rate', 0.05), ('loss', 'bpr'), ('no_components', 1)])\n",
      "dict_items([('k', 1), ('learning_rate', 0.05), ('loss', 'bpr'), ('no_components', 5)])\n",
      "dict_items([('k', 1), ('learning_rate', 0.05), ('loss', 'bpr'), ('no_components', 10)])\n",
      "dict_items([('k', 1), ('learning_rate', 0.05), ('loss', 'bpr'), ('no_components', 20)])\n",
      "dict_items([('k', 1), ('learning_rate', 0.05), ('loss', 'warp'), ('no_components', 1)])\n",
      "dict_items([('k', 1), ('learning_rate', 0.05), ('loss', 'warp'), ('no_components', 5)])\n",
      "dict_items([('k', 1), ('learning_rate', 0.05), ('loss', 'warp'), ('no_components', 10)])\n",
      "dict_items([('k', 1), ('learning_rate', 0.05), ('loss', 'warp'), ('no_components', 20)])\n",
      "dict_items([('k', 1), ('learning_rate', 0.05), ('loss', 'warp-kos'), ('no_components', 1)])\n",
      "dict_items([('k', 1), ('learning_rate', 0.05), ('loss', 'warp-kos'), ('no_components', 5)])\n",
      "dict_items([('k', 1), ('learning_rate', 0.05), ('loss', 'warp-kos'), ('no_components', 10)])\n",
      "dict_items([('k', 1), ('learning_rate', 0.05), ('loss', 'warp-kos'), ('no_components', 20)])\n",
      "dict_items([('k', 5), ('learning_rate', 0.5), ('loss', 'bpr'), ('no_components', 1)])\n",
      "dict_items([('k', 5), ('learning_rate', 0.5), ('loss', 'bpr'), ('no_components', 5)])\n",
      "dict_items([('k', 5), ('learning_rate', 0.5), ('loss', 'bpr'), ('no_components', 10)])\n",
      "dict_items([('k', 5), ('learning_rate', 0.5), ('loss', 'bpr'), ('no_components', 20)])\n",
      "dict_items([('k', 5), ('learning_rate', 0.5), ('loss', 'warp'), ('no_components', 1)])\n",
      "dict_items([('k', 5), ('learning_rate', 0.5), ('loss', 'warp'), ('no_components', 5)])\n",
      "dict_items([('k', 5), ('learning_rate', 0.5), ('loss', 'warp'), ('no_components', 10)])\n",
      "dict_items([('k', 5), ('learning_rate', 0.5), ('loss', 'warp'), ('no_components', 20)])\n",
      "dict_items([('k', 5), ('learning_rate', 0.5), ('loss', 'warp-kos'), ('no_components', 1)])\n",
      "dict_items([('k', 5), ('learning_rate', 0.5), ('loss', 'warp-kos'), ('no_components', 5)])\n",
      "dict_items([('k', 5), ('learning_rate', 0.5), ('loss', 'warp-kos'), ('no_components', 10)])\n",
      "dict_items([('k', 5), ('learning_rate', 0.5), ('loss', 'warp-kos'), ('no_components', 20)])\n",
      "dict_items([('k', 5), ('learning_rate', 0.01), ('loss', 'bpr'), ('no_components', 1)])\n",
      "dict_items([('k', 5), ('learning_rate', 0.01), ('loss', 'bpr'), ('no_components', 5)])\n",
      "dict_items([('k', 5), ('learning_rate', 0.01), ('loss', 'bpr'), ('no_components', 10)])\n",
      "dict_items([('k', 5), ('learning_rate', 0.01), ('loss', 'bpr'), ('no_components', 20)])\n",
      "dict_items([('k', 5), ('learning_rate', 0.01), ('loss', 'warp'), ('no_components', 1)])\n",
      "dict_items([('k', 5), ('learning_rate', 0.01), ('loss', 'warp'), ('no_components', 5)])\n",
      "dict_items([('k', 5), ('learning_rate', 0.01), ('loss', 'warp'), ('no_components', 10)])\n",
      "dict_items([('k', 5), ('learning_rate', 0.01), ('loss', 'warp'), ('no_components', 20)])\n",
      "dict_items([('k', 5), ('learning_rate', 0.01), ('loss', 'warp-kos'), ('no_components', 1)])\n",
      "dict_items([('k', 5), ('learning_rate', 0.01), ('loss', 'warp-kos'), ('no_components', 5)])\n",
      "dict_items([('k', 5), ('learning_rate', 0.01), ('loss', 'warp-kos'), ('no_components', 10)])\n",
      "dict_items([('k', 5), ('learning_rate', 0.01), ('loss', 'warp-kos'), ('no_components', 20)])\n",
      "dict_items([('k', 5), ('learning_rate', 0.05), ('loss', 'bpr'), ('no_components', 1)])\n",
      "dict_items([('k', 5), ('learning_rate', 0.05), ('loss', 'bpr'), ('no_components', 5)])\n",
      "dict_items([('k', 5), ('learning_rate', 0.05), ('loss', 'bpr'), ('no_components', 10)])\n",
      "dict_items([('k', 5), ('learning_rate', 0.05), ('loss', 'bpr'), ('no_components', 20)])\n",
      "dict_items([('k', 5), ('learning_rate', 0.05), ('loss', 'warp'), ('no_components', 1)])\n",
      "dict_items([('k', 5), ('learning_rate', 0.05), ('loss', 'warp'), ('no_components', 5)])\n",
      "dict_items([('k', 5), ('learning_rate', 0.05), ('loss', 'warp'), ('no_components', 10)])\n",
      "dict_items([('k', 5), ('learning_rate', 0.05), ('loss', 'warp'), ('no_components', 20)])\n",
      "dict_items([('k', 5), ('learning_rate', 0.05), ('loss', 'warp-kos'), ('no_components', 1)])\n",
      "dict_items([('k', 5), ('learning_rate', 0.05), ('loss', 'warp-kos'), ('no_components', 5)])\n",
      "dict_items([('k', 5), ('learning_rate', 0.05), ('loss', 'warp-kos'), ('no_components', 10)])\n",
      "dict_items([('k', 5), ('learning_rate', 0.05), ('loss', 'warp-kos'), ('no_components', 20)])\n",
      "dict_items([('k', 10), ('learning_rate', 0.5), ('loss', 'bpr'), ('no_components', 1)])\n",
      "dict_items([('k', 10), ('learning_rate', 0.5), ('loss', 'bpr'), ('no_components', 5)])\n",
      "dict_items([('k', 10), ('learning_rate', 0.5), ('loss', 'bpr'), ('no_components', 10)])\n",
      "dict_items([('k', 10), ('learning_rate', 0.5), ('loss', 'bpr'), ('no_components', 20)])\n",
      "dict_items([('k', 10), ('learning_rate', 0.5), ('loss', 'warp'), ('no_components', 1)])\n",
      "dict_items([('k', 10), ('learning_rate', 0.5), ('loss', 'warp'), ('no_components', 5)])\n",
      "dict_items([('k', 10), ('learning_rate', 0.5), ('loss', 'warp'), ('no_components', 10)])\n",
      "dict_items([('k', 10), ('learning_rate', 0.5), ('loss', 'warp'), ('no_components', 20)])\n",
      "dict_items([('k', 10), ('learning_rate', 0.5), ('loss', 'warp-kos'), ('no_components', 1)])\n",
      "dict_items([('k', 10), ('learning_rate', 0.5), ('loss', 'warp-kos'), ('no_components', 5)])\n",
      "dict_items([('k', 10), ('learning_rate', 0.5), ('loss', 'warp-kos'), ('no_components', 10)])\n",
      "dict_items([('k', 10), ('learning_rate', 0.5), ('loss', 'warp-kos'), ('no_components', 20)])\n",
      "dict_items([('k', 10), ('learning_rate', 0.01), ('loss', 'bpr'), ('no_components', 1)])\n",
      "dict_items([('k', 10), ('learning_rate', 0.01), ('loss', 'bpr'), ('no_components', 5)])\n",
      "dict_items([('k', 10), ('learning_rate', 0.01), ('loss', 'bpr'), ('no_components', 10)])\n",
      "dict_items([('k', 10), ('learning_rate', 0.01), ('loss', 'bpr'), ('no_components', 20)])\n",
      "dict_items([('k', 10), ('learning_rate', 0.01), ('loss', 'warp'), ('no_components', 1)])\n",
      "dict_items([('k', 10), ('learning_rate', 0.01), ('loss', 'warp'), ('no_components', 5)])\n",
      "dict_items([('k', 10), ('learning_rate', 0.01), ('loss', 'warp'), ('no_components', 10)])\n",
      "dict_items([('k', 10), ('learning_rate', 0.01), ('loss', 'warp'), ('no_components', 20)])\n"
     ]
    },
    {
     "name": "stdout",
     "output_type": "stream",
     "text": [
      "dict_items([('k', 10), ('learning_rate', 0.01), ('loss', 'warp-kos'), ('no_components', 1)])\n",
      "dict_items([('k', 10), ('learning_rate', 0.01), ('loss', 'warp-kos'), ('no_components', 5)])\n",
      "dict_items([('k', 10), ('learning_rate', 0.01), ('loss', 'warp-kos'), ('no_components', 10)])\n",
      "dict_items([('k', 10), ('learning_rate', 0.01), ('loss', 'warp-kos'), ('no_components', 20)])\n",
      "dict_items([('k', 10), ('learning_rate', 0.05), ('loss', 'bpr'), ('no_components', 1)])\n",
      "dict_items([('k', 10), ('learning_rate', 0.05), ('loss', 'bpr'), ('no_components', 5)])\n",
      "dict_items([('k', 10), ('learning_rate', 0.05), ('loss', 'bpr'), ('no_components', 10)])\n",
      "dict_items([('k', 10), ('learning_rate', 0.05), ('loss', 'bpr'), ('no_components', 20)])\n",
      "dict_items([('k', 10), ('learning_rate', 0.05), ('loss', 'warp'), ('no_components', 1)])\n",
      "dict_items([('k', 10), ('learning_rate', 0.05), ('loss', 'warp'), ('no_components', 5)])\n",
      "dict_items([('k', 10), ('learning_rate', 0.05), ('loss', 'warp'), ('no_components', 10)])\n",
      "dict_items([('k', 10), ('learning_rate', 0.05), ('loss', 'warp'), ('no_components', 20)])\n",
      "dict_items([('k', 10), ('learning_rate', 0.05), ('loss', 'warp-kos'), ('no_components', 1)])\n",
      "dict_items([('k', 10), ('learning_rate', 0.05), ('loss', 'warp-kos'), ('no_components', 5)])\n",
      "dict_items([('k', 10), ('learning_rate', 0.05), ('loss', 'warp-kos'), ('no_components', 10)])\n",
      "dict_items([('k', 10), ('learning_rate', 0.05), ('loss', 'warp-kos'), ('no_components', 20)])\n",
      "dict_items([('k', 20), ('learning_rate', 0.5), ('loss', 'bpr'), ('no_components', 1)])\n",
      "dict_items([('k', 20), ('learning_rate', 0.5), ('loss', 'bpr'), ('no_components', 5)])\n",
      "dict_items([('k', 20), ('learning_rate', 0.5), ('loss', 'bpr'), ('no_components', 10)])\n",
      "dict_items([('k', 20), ('learning_rate', 0.5), ('loss', 'bpr'), ('no_components', 20)])\n",
      "dict_items([('k', 20), ('learning_rate', 0.5), ('loss', 'warp'), ('no_components', 1)])\n",
      "dict_items([('k', 20), ('learning_rate', 0.5), ('loss', 'warp'), ('no_components', 5)])\n",
      "dict_items([('k', 20), ('learning_rate', 0.5), ('loss', 'warp'), ('no_components', 10)])\n",
      "dict_items([('k', 20), ('learning_rate', 0.5), ('loss', 'warp'), ('no_components', 20)])\n",
      "dict_items([('k', 20), ('learning_rate', 0.5), ('loss', 'warp-kos'), ('no_components', 1)])\n",
      "dict_items([('k', 20), ('learning_rate', 0.5), ('loss', 'warp-kos'), ('no_components', 5)])\n",
      "dict_items([('k', 20), ('learning_rate', 0.5), ('loss', 'warp-kos'), ('no_components', 10)])\n",
      "dict_items([('k', 20), ('learning_rate', 0.5), ('loss', 'warp-kos'), ('no_components', 20)])\n",
      "dict_items([('k', 20), ('learning_rate', 0.01), ('loss', 'bpr'), ('no_components', 1)])\n",
      "dict_items([('k', 20), ('learning_rate', 0.01), ('loss', 'bpr'), ('no_components', 5)])\n",
      "dict_items([('k', 20), ('learning_rate', 0.01), ('loss', 'bpr'), ('no_components', 10)])\n",
      "dict_items([('k', 20), ('learning_rate', 0.01), ('loss', 'bpr'), ('no_components', 20)])\n",
      "dict_items([('k', 20), ('learning_rate', 0.01), ('loss', 'warp'), ('no_components', 1)])\n",
      "dict_items([('k', 20), ('learning_rate', 0.01), ('loss', 'warp'), ('no_components', 5)])\n",
      "dict_items([('k', 20), ('learning_rate', 0.01), ('loss', 'warp'), ('no_components', 10)])\n",
      "dict_items([('k', 20), ('learning_rate', 0.01), ('loss', 'warp'), ('no_components', 20)])\n",
      "dict_items([('k', 20), ('learning_rate', 0.01), ('loss', 'warp-kos'), ('no_components', 1)])\n",
      "dict_items([('k', 20), ('learning_rate', 0.01), ('loss', 'warp-kos'), ('no_components', 5)])\n",
      "dict_items([('k', 20), ('learning_rate', 0.01), ('loss', 'warp-kos'), ('no_components', 10)])\n",
      "dict_items([('k', 20), ('learning_rate', 0.01), ('loss', 'warp-kos'), ('no_components', 20)])\n",
      "dict_items([('k', 20), ('learning_rate', 0.05), ('loss', 'bpr'), ('no_components', 1)])\n",
      "dict_items([('k', 20), ('learning_rate', 0.05), ('loss', 'bpr'), ('no_components', 5)])\n",
      "dict_items([('k', 20), ('learning_rate', 0.05), ('loss', 'bpr'), ('no_components', 10)])\n",
      "dict_items([('k', 20), ('learning_rate', 0.05), ('loss', 'bpr'), ('no_components', 20)])\n",
      "dict_items([('k', 20), ('learning_rate', 0.05), ('loss', 'warp'), ('no_components', 1)])\n",
      "dict_items([('k', 20), ('learning_rate', 0.05), ('loss', 'warp'), ('no_components', 5)])\n",
      "dict_items([('k', 20), ('learning_rate', 0.05), ('loss', 'warp'), ('no_components', 10)])\n",
      "dict_items([('k', 20), ('learning_rate', 0.05), ('loss', 'warp'), ('no_components', 20)])\n",
      "dict_items([('k', 20), ('learning_rate', 0.05), ('loss', 'warp-kos'), ('no_components', 1)])\n",
      "dict_items([('k', 20), ('learning_rate', 0.05), ('loss', 'warp-kos'), ('no_components', 5)])\n",
      "dict_items([('k', 20), ('learning_rate', 0.05), ('loss', 'warp-kos'), ('no_components', 10)])\n",
      "dict_items([('k', 20), ('learning_rate', 0.05), ('loss', 'warp-kos'), ('no_components', 20)])\n"
     ]
    }
   ],
   "source": [
    "from joblib import Parallel, delayed\n",
    "import multiprocessing\n",
    "\n",
    "num_cores = multiprocessing.cpu_count()\n",
    "\n",
    "train_res, test_res = my_GridSearch(list_combin_params)\n",
    "# train_res, test_res = Parallel(n_jobs=num_cores)(delayed(my_GridSearch)(i) for i in list_combin_params)"
   ]
  },
  {
   "cell_type": "code",
   "execution_count": 96,
   "id": "female-sellers",
   "metadata": {},
   "outputs": [
    {
     "name": "stdout",
     "output_type": "stream",
     "text": [
      "Results obtained on train set\n"
     ]
    },
    {
     "data": {
      "text/html": [
       "<div>\n",
       "<style scoped>\n",
       "    .dataframe tbody tr th:only-of-type {\n",
       "        vertical-align: middle;\n",
       "    }\n",
       "\n",
       "    .dataframe tbody tr th {\n",
       "        vertical-align: top;\n",
       "    }\n",
       "\n",
       "    .dataframe thead th {\n",
       "        text-align: right;\n",
       "    }\n",
       "</style>\n",
       "<table border=\"1\" class=\"dataframe\">\n",
       "  <thead>\n",
       "    <tr style=\"text-align: right;\">\n",
       "      <th></th>\n",
       "      <th>time (s)</th>\n",
       "      <th>precision</th>\n",
       "      <th>recall</th>\n",
       "      <th>AUC</th>\n",
       "    </tr>\n",
       "  </thead>\n",
       "  <tbody>\n",
       "    <tr>\n",
       "      <th>0</th>\n",
       "      <td>0.806</td>\n",
       "      <td>0.026</td>\n",
       "      <td>0.007</td>\n",
       "      <td>0.801</td>\n",
       "    </tr>\n",
       "    <tr>\n",
       "      <th>1</th>\n",
       "      <td>1.117</td>\n",
       "      <td>0.122</td>\n",
       "      <td>0.032</td>\n",
       "      <td>0.945</td>\n",
       "    </tr>\n",
       "    <tr>\n",
       "      <th>2</th>\n",
       "      <td>1.362</td>\n",
       "      <td>0.247</td>\n",
       "      <td>0.065</td>\n",
       "      <td>0.972</td>\n",
       "    </tr>\n",
       "    <tr>\n",
       "      <th>3</th>\n",
       "      <td>1.731</td>\n",
       "      <td>0.429</td>\n",
       "      <td>0.113</td>\n",
       "      <td>0.987</td>\n",
       "    </tr>\n",
       "    <tr>\n",
       "      <th>4</th>\n",
       "      <td>1.316</td>\n",
       "      <td>0.002</td>\n",
       "      <td>0.001</td>\n",
       "      <td>0.571</td>\n",
       "    </tr>\n",
       "  </tbody>\n",
       "</table>\n",
       "</div>"
      ],
      "text/plain": [
       "   time (s)  precision   recall    AUC\n",
       "0     0.806       0.026   0.007  0.801\n",
       "1     1.117       0.122   0.032  0.945\n",
       "2     1.362       0.247   0.065  0.972\n",
       "3     1.731       0.429   0.113  0.987\n",
       "4     1.316       0.002   0.001  0.571"
      ]
     },
     "execution_count": 96,
     "metadata": {},
     "output_type": "execute_result"
    }
   ],
   "source": [
    "print(\"Results obtained on train set\")\n",
    "df_train = print_df_resultats(train_res)\n",
    "df_train.head()"
   ]
  },
  {
   "cell_type": "code",
   "execution_count": 94,
   "id": "surprised-jaguar",
   "metadata": {},
   "outputs": [
    {
     "name": "stdout",
     "output_type": "stream",
     "text": [
      "maximum value for AUC : 0.993\n",
      "Les meilleurs paramètres pour le modèle sont dict_items([('no_components', 20), ('loss', 'warp-kos'), ('learning_rate', 0.05), ('k', 10)])\n"
     ]
    }
   ],
   "source": [
    "max_index = np.argmax(df_train.AUC)\n",
    "print('maximum value for AUC :',df_train.AUC[max_index])\n",
    "\n",
    "best_params = ParameterGrid(grid_params)[max_index].items()\n",
    "print(f\"Les meilleurs paramètres pour le modèle sont {best_params}\")"
   ]
  },
  {
   "cell_type": "code",
   "execution_count": 100,
   "id": "orange-commission",
   "metadata": {},
   "outputs": [
    {
     "name": "stdout",
     "output_type": "stream",
     "text": [
      "A partir d'un epochs = 5, l'AUC est suppérieur à 0.98 (valeur : 0.982).\n",
      "Le temps d'apprentissage est de 0.684 secondes\n"
     ]
    },
    {
     "data": {
      "image/png": "[encoded data removed]",
      "text/plain": [
       "<Figure size 864x576 with 1 Axes>"
      ]
     },
     "metadata": {
      "needs_background": "light"
     },
     "output_type": "display_data"
    }
   ],
   "source": [
    "learn_rate = 0.05\n",
    "nb_epochs = 50\n",
    "model1 = LightFM(learning_rate=learn_rate, k=10, loss='warp-kos', \n",
    "                 random_state = 42, no_components=20)\n",
    "train_res = AUC_fcn_of_epochs(model1, train, nb_epochs)\n",
    "\n",
    "arr = np.array(train_res['ligthFM-loss_wrap'])\n",
    "df = pd.DataFrame(arr, columns=['time_s', 'i', 'AUC'])\n",
    "\n",
    "plot_AUC_fcn_of_epochs(df, AUC_lim, learn_rate)"
   ]
  },
  {
   "cell_type": "markdown",
   "id": "conservative-sleeping",
   "metadata": {},
   "source": [
    "### Part 3 : App client-Server\n",
    "#### Vectorisation utilisateur"
   ]
  },
  {
   "cell_type": "code",
   "execution_count": 232,
   "id": "vietnamese-consortium",
   "metadata": {},
   "outputs": [],
   "source": [
    "select0 = ['MALICE MIZER', 'Diary of Dreams', 'Carpathian Forest', 'Depeche Mode']\n",
    "select1 = ['MALICE MIZER', 'Diary of Dreams', 'Carpathian Forest', \n",
    "           'Coptic Rain', 'Oz Alchemist', 'Grzegorz Tomczak']"
   ]
  },
  {
   "cell_type": "code",
   "execution_count": 233,
   "id": "median-elite",
   "metadata": {
    "scrolled": true
   },
   "outputs": [],
   "source": [
    "def add_new_user(ratings_df, select, artist_names, ap):\n",
    "    user_ids = ratings_df.index.values\n",
    "    new_user = max(user_ids)+1\n",
    "    new_user_artist = np.zeros(len(artist_names))\n",
    "    i=0\n",
    "    for artist in artist_names:\n",
    "        if artist in select:\n",
    "            new_user_artist[i] = ap.playCountScaled[ap['name']==artist].mean()\n",
    "        i +=1  \n",
    "    ratings_df.loc[new_user] = new_user_artist\n",
    "    return ratings_df"
   ]
  },
  {
   "cell_type": "code",
   "execution_count": 234,
   "id": "bulgarian-outdoors",
   "metadata": {},
   "outputs": [],
   "source": [
    "ratings_df = add_new_user(ratings_df, select0, artist_names, ap)\n",
    "user_ids = ratings_df.index.values"
   ]
  },
  {
   "cell_type": "code",
   "execution_count": 235,
   "id": "harmful-closer",
   "metadata": {},
   "outputs": [],
   "source": [
    "ratings_df = add_new_user(ratings_df, select1, artist_names, ap)\n",
    "user_ids = ratings_df.index.values"
   ]
  },
  {
   "cell_type": "code",
   "execution_count": 236,
   "id": "local-suspension",
   "metadata": {},
   "outputs": [
    {
     "data": {
      "text/plain": [
       "array([[0.        , 0.        , 0.        , ..., 0.        , 0.        ,\n",
       "        0.        ],\n",
       "       [0.        , 0.        , 0.        , ..., 0.        , 0.        ,\n",
       "        0.        ],\n",
       "       [0.        , 0.        , 0.        , ..., 0.        , 0.        ,\n",
       "        0.        ],\n",
       "       ...,\n",
       "       [0.        , 0.        , 0.00115397, ..., 0.        , 0.        ,\n",
       "        0.        ],\n",
       "       [0.00072584, 0.0018902 , 0.00072962, ..., 0.        , 0.        ,\n",
       "        0.        ],\n",
       "       [0.00072584, 0.0018902 , 0.00072962, ..., 0.00081089, 0.00080806,\n",
       "        0.001205  ]])"
      ]
     },
     "execution_count": 236,
     "metadata": {},
     "output_type": "execute_result"
    }
   ],
   "source": [
    "ratings = ratings_df.fillna(0).values\n",
    "ratings"
   ]
  }
 ],
 "metadata": {
  "kernelspec": {
   "display_name": "Python 3",
   "language": "python",
   "name": "python3"
  },
  "language_info": {
   "codemirror_mode": {
    "name": "ipython",
    "version": 3
   },
   "file_extension": ".py",
   "mimetype": "text/x-python",
   "name": "python",
   "nbconvert_exporter": "python",
   "pygments_lexer": "ipython3",
   "version": "3.8.3"
  }
 },
 "nbformat": 4,
 "nbformat_minor": 5
}
